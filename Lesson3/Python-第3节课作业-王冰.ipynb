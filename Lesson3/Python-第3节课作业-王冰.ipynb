{
 "cells": [
  {
   "cell_type": "markdown",
   "metadata": {},
   "source": [
    "## 1. 实现`print`函数\n",
    "定义一个函数`print_string`，返回一个字符串。  \n",
    "`print_string`函数支持输入多个参数，每个参数间使用参数`sep`(默认一个空格)的字符进行连接，并且最后还要添加一个`end`(默认一个换行)参数的字符。  \n",
    "比如\n",
    "- `print_string('This is a test')` 返回`This is a test\\n`  \n",
    "- `print_string('This', 'is', 'a', 'test')` 返回`This is a test\\n`\n",
    "- `print_string('This', 'is', 'a', 'test', sep = '-')` 返回`This-is-a-test\\n`\n",
    "- `print_string('This', 'is', 'a', 'test', ',', 'Yes', sep = '_', end = '.')` 返回`This_is_a_test_,_Yes.`"
   ]
  },
  {
   "cell_type": "code",
   "execution_count": 5,
   "metadata": {},
   "outputs": [
    {
     "name": "stdout",
     "output_type": "stream",
     "text": [
      "This is a test\n",
      "\n",
      "This is a test\n",
      "\n",
      "This-is-a-test\n",
      "\n",
      "This_is_a_test_,_Yes.\n"
     ]
    }
   ],
   "source": [
    "def print_string(*stri, sep=' ', end='\\n'):\n",
    "    return sep.join(stri) + end\n",
    "\n",
    "# 因题目要求是返回str，所以下面使用额外的print打印\n",
    "print(print_string('This is a test') )\n",
    "print(print_string('This', 'is', 'a', 'test') )\n",
    "print(print_string('This', 'is', 'a', 'test', sep = '-') )\n",
    "print(print_string('This', 'is', 'a', 'test', ',', 'Yes', sep = '_', end = '.') )\n"
   ]
  },
  {
   "cell_type": "markdown",
   "metadata": {},
   "source": [
    "## 2. 打印斐波那契数列\n",
    "以三种方式打印波那契数列    \n",
    "给定一个数值n，将前n项的波那契数列打印出来"
   ]
  },
  {
   "cell_type": "code",
   "execution_count": 65,
   "metadata": {},
   "outputs": [
    {
     "name": "stdout",
     "output_type": "stream",
     "text": [
      "1  1  2  3  5  8  13  \n",
      "1  1  2  3  5  8  13  21  34  55  89  144  233  377  \n",
      "1  1  2  3  5  8  13  21  34  55  89  144  233  377  610  987  1597  2584  4181  6765  10946  17711  28657  46368  75025  121393  196418  317811  514229  832040  \n",
      "CPU times: user 647 ms, sys: 16.5 ms, total: 663 ms\n",
      "Wall time: 661 ms\n"
     ]
    }
   ],
   "source": [
    "%%time\n",
    "\n",
    "# 方法一，递归求\n",
    "\n",
    "def fibonacci(n1):\n",
    "    if n1 == 1 or n1 == 2:\n",
    "        return 1\n",
    "    else:\n",
    "        return fibonacci(n1-1) + fibonacci(n1-2)\n",
    "\n",
    "def print_fib(n):\n",
    "    for n1 in range(1,n+1):\n",
    "        print(fibonacci(n1), ' ', end='')\n",
    "    print('')\n",
    "    \n",
    "    return\n",
    "\n",
    "print_fib(7)\n",
    "print_fib(14)\n",
    "print_fib(30)"
   ]
  },
  {
   "cell_type": "code",
   "execution_count": 64,
   "metadata": {},
   "outputs": [
    {
     "name": "stdout",
     "output_type": "stream",
     "text": [
      "1  1  2  3  5  8  13  \n",
      "1  1  2  3  5  8  13  21  34  55  89  144  233  377  \n",
      "1  1  2  3  5  8  13  21  34  55  89  144  233  377  610  987  1597  2584  4181  6765  10946  17711  28657  46368  75025  121393  196418  317811  514229  832040  \n",
      "CPU times: user 3.76 ms, sys: 2.89 ms, total: 6.65 ms\n",
      "Wall time: 4.68 ms\n"
     ]
    }
   ],
   "source": [
    "%%time\n",
    "\n",
    "# 方法二，顺序求\n",
    "\n",
    "def fibonacci(n):\n",
    "    f = []\n",
    "    for n1 in range(n):\n",
    "        if n1+1 == 1 or n1+1 == 2:\n",
    "            f.append(1)\n",
    "        else:\n",
    "            n2 = f[n1-1] + f[n1-2]\n",
    "            f.append(n2)\n",
    "    return f\n",
    "\n",
    "def print_fib(n):\n",
    "    for n1 in fibonacci(n):\n",
    "        print(n1, ' ', end='')\n",
    "    print('')\n",
    "    \n",
    "    return\n",
    "print_fib(7)\n",
    "print_fib(14)\n",
    "print_fib(30)"
   ]
  },
  {
   "cell_type": "code",
   "execution_count": 63,
   "metadata": {},
   "outputs": [
    {
     "name": "stdout",
     "output_type": "stream",
     "text": [
      "1  1  2  3  5  8  13  \n",
      "1  1  2  3  5  8  13  21  34  55  89  144  233  377  \n",
      "1  1  2  3  5  8  13  21  34  55  89  144  233  377  610  987  1597  2584  4181  6765  10946  17711  28657  46368  75025  121393  196418  317811  514229  832040  \n",
      "CPU times: user 2.11 ms, sys: 1.86 ms, total: 3.97 ms\n",
      "Wall time: 2.34 ms\n"
     ]
    }
   ],
   "source": [
    "%%time\n",
    "\n",
    "#方法三，迭代求\n",
    "\n",
    "def fibonacci(n):\n",
    "    f = []\n",
    "    a = 1\n",
    "    b = 1\n",
    "    c = 0\n",
    "    \n",
    "    for n1 in range(n):\n",
    "        if n1+1 == 1 or n1+1 == 2:\n",
    "            f.append(1)\n",
    "        else:\n",
    "            c = a + b\n",
    "            a = b\n",
    "            b = c\n",
    "            f.append(c)\n",
    "    return f\n",
    "\n",
    "#print_fib函数沿用上一个cell定义的\n",
    "\n",
    "print_fib(7)\n",
    "print_fib(14)\n",
    "print_fib(30)"
   ]
  },
  {
   "cell_type": "code",
   "execution_count": null,
   "metadata": {},
   "outputs": [],
   "source": []
  }
 ],
 "metadata": {
  "kernelspec": {
   "display_name": "Python 3",
   "language": "python",
   "name": "python3"
  },
  "language_info": {
   "codemirror_mode": {
    "name": "ipython",
    "version": 3
   },
   "file_extension": ".py",
   "mimetype": "text/x-python",
   "name": "python",
   "nbconvert_exporter": "python",
   "pygments_lexer": "ipython3",
   "version": "3.7.2"
  }
 },
 "nbformat": 4,
 "nbformat_minor": 4
}
