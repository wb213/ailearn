{
 "cells": [
  {
   "cell_type": "markdown",
   "metadata": {
    "toc-hr-collapsed": true
   },
   "source": [
    "# 上周作业"
   ]
  },
  {
   "cell_type": "markdown",
   "metadata": {},
   "source": [
    "## 1. 实现一周的记账功能\n",
    "首先记录输入的7天的收入，然后记录输入的7天的支出。  \n",
    "然后打印出以下内容：\n",
    "- 7天的收入(list)\n",
    "- 7天的支出(list)\n",
    "- 每天的结余(dict)\n",
    "- 最终的结余"
   ]
  },
  {
   "cell_type": "code",
   "execution_count": null,
   "metadata": {},
   "outputs": [],
   "source": [
    "incomes = []\n",
    "outputs = []\n",
    "balances = dict()\n",
    "\n",
    "for i in range(7):\n",
    "    day_incomes = int(input('请输入周'+str(i+1)+'收入:'))\n",
    "    incomes.append(day_incomes)\n",
    "\n",
    "for i in range(7):\n",
    "    day_output = int(input('请输入周'+str(i+1)+'支出:'))\n",
    "    outputs.append(day_output)\n",
    "\n",
    "print('7天的收入：')\n",
    "for i in incomes:\n",
    "    print(i)\n",
    "print('7天的支出：')\n",
    "for i in incomes:\n",
    "    print(i)\n",
    "\n",
    "for i in range(7):\n",
    "    balances[i] = incomes[i] - outputs[i]\n",
    "\n",
    "print('7天的收支结余：')\n",
    "for day,balance in balances.items():\n",
    "    print('周',day+1,'结余为:', balance)\n",
    "\n",
    "print('最终的结余为:', sum(incomes) - sum(outputs))"
   ]
  },
  {
   "cell_type": "markdown",
   "metadata": {},
   "source": [
    "## 2. 实现ATM机器\n",
    "- 查询余额\n",
    "- 存款\n",
    "- 取款\n",
    "- 退出"
   ]
  },
  {
   "cell_type": "code",
   "execution_count": null,
   "metadata": {},
   "outputs": [],
   "source": [
    "info = \"\"\"\n",
    "===========\n",
    "请选择操作\n",
    "1. 查询余额\n",
    "2. 存款\n",
    "3. 取款\n",
    "4. 退出\n",
    "===========\n",
    "\n",
    "\"\"\"\n",
    "\n",
    "balance = 20\n",
    "action = 0\n",
    "\n",
    "while action != 4:\n",
    "    action = int(input(info))\n",
    "    if action == 1:\n",
    "        print('余额为:', balance)\n",
    "    elif action == 2:\n",
    "        money = int(input('请输入存款金额：'))\n",
    "        balance += money\n",
    "    elif action == 3:\n",
    "        require = int(input('请输入取款金额：'))\n",
    "        if require > balance:\n",
    "            print('余额不足！')\n",
    "        else:\n",
    "            balance -= require\n",
    "            print('已取出存款', require, '元')\n",
    "    else:\n",
    "        print('已退出!')\n",
    "        break"
   ]
  },
  {
   "cell_type": "markdown",
   "metadata": {},
   "source": [
    "## 3. 词汇表生成及统计\n",
    "  \n",
    "下面是一段[文本](http://baijiahao.baidu.com/s?id=1646569900805781240&wfr=spider&for=pc)：\n",
    "\n",
    "> 2019年十月一日上午，庆祝中华人民共和国成立70周年阅兵式在首都北京盛大举行，59个阅兵方阵，580台受阅装备，1.5万人的参阅队伍接受了全国人民的检阅。阅兵装备方队展示的武器装备皆为国产现役主战装备，40%为首次展示。其中近些年来广受全球关注的东风41洲际弹道导弹，巨浪二潜射弹道导弹，东风17高超音速武器系统终于揭幕亮剑，以\"不怒自威\"的形象向世界展示中国捍卫和平的意志与力量。相较于其他首度公开亮相的武器装备，这三款武器多年来传闻不断，备受关注，并因其\"大国基石\"的地位而被公众赋予特殊的期待，这三款武器装备实力究竟如何，又各自承担着怎样的历史\"使命\"呢？本报特约相关领域军事专家，为大家详细解读这三款彰显国威，震撼世界的国之重器。 \n",
    "\n",
    "经过分词后得到以下单词，通过空格分隔。\n",
    "\n",
    "```\n",
    "text = '2019 年 十月 一日 上午 ， 庆祝 中华人民共和国 成立 70 周年 阅兵式 在 首都北京 盛大举行 ， 59 个 阅兵 方阵 ， 580 台受 阅 装备 ， 1.5 万人 的 参阅 队伍 接受 了 全国 人民 的 检阅 。 阅兵 装备 方队 展示 的 武器装备 皆 为 国产 现役 主战 装备 ， 40% 为 首次 展示 。 其中 近些年来 广受 全球 关注 的 东风 41 洲际 弹道导弹 ， 巨浪 二潜射 弹道导弹 ， 东风 17 高超音速 武器 系统 终于 揭幕 亮剑 ， 以 \" 不怒 自威 \" 的 形象 向 世界 展示 中国 捍卫 和平 的 意志 与 力量 。 相较 于 其他 首度 公开 亮相 的 武器装备 ， 这 三款 武器 多年 来 传闻 不断 ， 备受 关注 ， 并 因 其 \" 大国 基石 \" 的 地位 而 被 公众 赋予 特殊 的 期待 ， 这 三款 武器装备 实力 究竟 如何 ， 又 各自 承担 着 怎样 的 历史 \" 使命 \" 呢 ？ 本报 特约 相关 领域 军事 专家 ， 为 大家 详细 解读 这 三款 彰显 国威 ， 震撼 世界 的 国 之 重器 。'\n",
    "```\n",
    "\n",
    "将文本生成词汇表(单词list)，单词对应ID的dict，以及ID对应单词的dict。\n",
    "将你的程序变成一个盒子，输入就是上面一段文本，盒子内部：首先将文本转换成单词列表，再得到统计的单词表(去重)，然后得到单词ID相互对应的字典。  \n",
    "效果如下：  \n",
    "\n",
    "```\n",
    "vocab = ['大家', '中国', '捍卫', ...}\n",
    "word2id = {'大家': 0, '中国': 1, '捍卫': 2, ...}\n",
    "id2word = {0: '大家', 1: '中国', 2: '捍卫', ...}\n",
    "```"
   ]
  },
  {
   "cell_type": "code",
   "execution_count": null,
   "metadata": {},
   "outputs": [],
   "source": [
    "text = '2019 年 十月 一日 上午 ， 庆祝 中华人民共和国 成立 70 周年 阅兵式 在 首都北京 盛大举行 ， 59 个 阅兵 方阵 ， 580 台受 阅 装备 ， 1.5 万人 的 参阅 队伍 接受 了 全国 人民 的 检阅 。 阅兵 装备 方队 展示 的 武器装备 皆 为 国产 现役 主战 装备 ， 40% 为 首次 展示 。 其中 近些年来 广受 全球 关注 的 东风 41 洲际 弹道导弹 ， 巨浪 二潜射 弹道导弹 ， 东风 17 高超音速 武器 系统 终于 揭幕 亮剑 ， 以 \" 不怒 自威 \" 的 形象 向 世界 展示 中国 捍卫 和平 的 意志 与 力量 。 相较 于 其他 首度 公开 亮相 的 武器装备 ， 这 三款 武器 多年 来 传闻 不断 ， 备受 关注 ， 并 因 其 \" 大国 基石 \" 的 地位 而 被 公众 赋予 特殊 的 期待 ， 这 三款 武器装备 实力 究竟 如何 ， 又 各自 承担 着 怎样 的 历史 \" 使命 \" 呢 ？ 本报 特约 相关 领域 军事 专家 ， 为 大家 详细 解读 这 三款 彰显 国威 ， 震撼 世界 的 国 之 重器 。'\n",
    "vocab = list(set(text.split())) # set 去重\n",
    "word2id = dict(zip(vocab, range(len(vocab))))\n",
    "id2word = dict(zip(range(len(vocab)), vocab))\n",
    "\n",
    "print(vocab)\n",
    "print(word2id)\n",
    "print(id2word)"
   ]
  },
  {
   "cell_type": "markdown",
   "metadata": {},
   "source": [
    "# 第三课 函数"
   ]
  },
  {
   "cell_type": "markdown",
   "metadata": {},
   "source": [
    "首先介绍 `封装` 的含义  \n",
    "一些教程里面对函数的讲解非常简单，但不够深入。  \n",
    "就像`艺术来源于生活，高于生活一样`，函数也和生活中的场景息息相关。  \n",
    "生活中充满了`函数`的思想，或者叫做`封装`。\n",
    "比如，老板说让你整理一下公司的财报，他不会管你如何去做，只要一个结果。  \n",
    "导师让你去写个论文  \n",
    "父母让你去做饭  \n",
    "乘客不需要管飞机是怎么操作的  \n",
    "用户使用软件，电脑等  \n",
    "他们都不会去关心你怎么做的，如何去做，只需要一个结果。\n",
    "\n",
    "同样，你当了老板，导师，等等，你安排别人任务，你也不需要去关心他具体的细节。  \n",
    "这就是`封装`的概念，  \n",
    "简单来说就是，定义一个功能，把具体的实现过程等一些细节问题包裹起来，不需要也没必要给其他人(使用者)操心。  \n",
    "\n",
    "这样就抽象成了一个模块，你知道这个模块是干什么的就行了，他怎么做的你不用去关心，你的注意力就更加集中了。"
   ]
  },
  {
   "cell_type": "markdown",
   "metadata": {},
   "source": [
    "所以，封装的一个好处你大概已经明白了，就是你给它一个任务，它直接给你个结果，其它的怎么做你不用管。  \n",
    "当然，还有另外一个优点：可复用性。\n",
    "\n",
    "就像电脑就是封装后的结果，你可以用来做一样的事情，我也可以用来做同样的事情，并且保证结果是一样的。\n",
    "\n",
    "厨师长让你做一份糖醋里脊，以后要做糖醋里脊只需要你来做就好了，就不用其他人再去学习该怎么做了，或者说饭店结构进行了调整，但只要保留你一个人做糖醋里脊就好了，还是不需要多个人来学。"
   ]
  },
  {
   "cell_type": "markdown",
   "metadata": {},
   "source": [
    "换成编程思维来说，  \n",
    "就像之前写的判断一个年份是否为闰年"
   ]
  },
  {
   "cell_type": "code",
   "execution_count": null,
   "metadata": {},
   "outputs": [],
   "source": [
    "year = int(input(\"请输入一个年份：\"))\n",
    "if (year % 4) == 0 and (year % 100) != 0 or (year % 400) == 0:\n",
    "    print(\"{0}是闰年\".format(year))\n",
    "else:\n",
    "    print(\"{0}不是闰年\".format(year))"
   ]
  },
  {
   "cell_type": "markdown",
   "metadata": {},
   "source": [
    "以后你写项目代码时候，肯定是有很多内容的，需要判断年份是否为闰年的地方也非常多，加入你在每个文件里都写一遍，会很麻烦。就像你招了多个人做同一个工作，效率很低，浪费成本。  \n",
    "所以，我们来把这个代码片段封装起来，封装好的东西我们称为`函数`，来直接看"
   ]
  },
  {
   "cell_type": "code",
   "execution_count": 7,
   "metadata": {},
   "outputs": [
    {
     "name": "stdout",
     "output_type": "stream",
     "text": [
      "2001不是闰年\n"
     ]
    }
   ],
   "source": [
    "def isleap(year):\n",
    "    if (year % 4) == 0 and (year % 100) != 0 or (year % 400) == 0:\n",
    "        print(\"{0}是闰年\".format(year))\n",
    "    else:\n",
    "        print(\"{0}不是闰年\".format(year))\n",
    "\n",
    "isleap(2001)"
   ]
  },
  {
   "cell_type": "markdown",
   "metadata": {},
   "source": [
    "我先不讲函数的定义规范，跟着我的思路来直接看这段代码，你也一定能看懂。  \n",
    "首先不看第一行，中间的代码是我们所熟悉的，就是判断year是否为闰年，不同点在于，这个year从哪里来的我们做了修改。  \n",
    "那这个year来自第一行， 第一行是函数的定义，定义了函数的名称。括号里的东西就是参数。  \n",
    "你会发现，这和我们使用`print()`函数非常相似。想打印什么，我们把需要打印的东西传入到`print()`里，这样来理解函数的输入就明白了。  \n",
    "函数定义的参数，是实际调用的时候传入的。  \n",
    "所以我们叫`形参`,就是形式上的参数，不是实际的，而`实参`就是函数调用时候传入的真正参数。"
   ]
  },
  {
   "cell_type": "markdown",
   "metadata": {},
   "source": [
    "还有一点，我们这个函数功能是写死了，即打印一个年份是否为闰年。我们在其它所有地方的调用这个方法结果都是这样，但这里我们用的是中文。  \n",
    "加入要是用英文，你如果修改函数，所有调用的地方都成了英文。  \n",
    "所以换个思路，我想要这个函数只输出一个bool变量，这样在不同的上下中我去根据上下问去调用使用中文英文，或者更改输出格式。"
   ]
  },
  {
   "cell_type": "markdown",
   "metadata": {},
   "source": [
    "``` python\n",
    "# 中文场景 场景1\n",
    "# ...\n",
    "\n",
    "year = 2020\n",
    "if isleap(year):\n",
    "    print(year,'是闰年！')\n",
    "else:\n",
    "    print(year,'不是闰年！')\n",
    "    \n",
    "    \n",
    "    \n",
    "    \n",
    "    \n",
    "    \n",
    "    \n",
    "# 场景2 用户修改网站语言为英文\n",
    "year = 2001 #from user input\n",
    "if isleap(year):\n",
    "    print(year,'is leap year.')\n",
    "else:\n",
    "    print(year,'is not leap year.')\n",
    "    \n",
    "```"
   ]
  },
  {
   "cell_type": "code",
   "execution_count": 14,
   "metadata": {},
   "outputs": [
    {
     "name": "stdout",
     "output_type": "stream",
     "text": [
      "2020 是闰年！\n",
      "2001 is not leap year.\n"
     ]
    }
   ],
   "source": [
    "def isleap(year):\n",
    "    return (year % 4) == 0 and (year % 100) != 0 or (year % 400) == 0\n",
    "\n",
    "year = 2020\n",
    "if isleap(year):\n",
    "    print(year,'是闰年！')\n",
    "else:\n",
    "    print(year,'不是闰年！')\n",
    "    \n",
    "    \n",
    "    \n",
    "    \n",
    "    \n",
    "    \n",
    "    \n",
    "# 场景2 用户修改网站语言为英文\n",
    "year = 2001 #from user input\n",
    "result = isleap(year)\n",
    "if result:\n",
    "    print(year,'is leap year.')\n",
    "else:\n",
    "    print(year,'is not leap year.')"
   ]
  },
  {
   "cell_type": "markdown",
   "metadata": {},
   "source": [
    "这就是函数的返回值，就像你给了别人一份文件，让他去处理，他处理完成了又给了你。就像你给了厨师一些食材，他返回给你一份饭菜。你给了财务一些发票，他把报销的钱返回给你  \n",
    "\n",
    "第一种方法就像你给了一堆文件给助手，助手处理完成后不需要返回给你东西。而第二种方法是还要返回一些东西给你。"
   ]
  },
  {
   "cell_type": "markdown",
   "metadata": {},
   "source": [
    "**函数的定义语法**  \n",
    "\n",
    "``` python\n",
    "def 函数名(参数): # parameters is optional\n",
    "    # some code\n",
    "    pass\n",
    "    # or return something\n",
    "```"
   ]
  },
  {
   "cell_type": "code",
   "execution_count": 17,
   "metadata": {},
   "outputs": [
    {
     "name": "stdout",
     "output_type": "stream",
     "text": [
      "This is a function sample!\n",
      "Welcome your learning Python!\n",
      "This is a function sample!\n",
      "Welcome your learning Python!\n"
     ]
    }
   ],
   "source": [
    "# 不需要参数的函数\n",
    "# 没有返回值的函数\n",
    "def hello():\n",
    "    print('This is a function sample!')\n",
    "    print('Welcome your learning Python!')\n",
    "    \n",
    "hello()\n",
    "\n",
    "hello()"
   ]
  },
  {
   "cell_type": "markdown",
   "metadata": {},
   "source": [
    "函数没有返回值,使用`None`表示  "
   ]
  },
  {
   "cell_type": "code",
   "execution_count": 21,
   "metadata": {},
   "outputs": [
    {
     "name": "stdout",
     "output_type": "stream",
     "text": [
      "This is a function sample!\n",
      "Welcome your learning Python!\n",
      "None\n"
     ]
    }
   ],
   "source": [
    "result = hello()\n",
    "print(result)"
   ]
  },
  {
   "cell_type": "markdown",
   "metadata": {},
   "source": [
    "None表示的是空，其它语言表示的是`Null`或`null`"
   ]
  },
  {
   "cell_type": "code",
   "execution_count": 22,
   "metadata": {},
   "outputs": [
    {
     "data": {
      "text/plain": [
       "False"
      ]
     },
     "execution_count": 22,
     "metadata": {},
     "output_type": "execute_result"
    }
   ],
   "source": [
    "obj = []\n",
    "obj == None"
   ]
  },
  {
   "cell_type": "markdown",
   "metadata": {},
   "source": [
    "函数不仅可以有一个返回值，也可以有多个"
   ]
  },
  {
   "cell_type": "code",
   "execution_count": 29,
   "metadata": {},
   "outputs": [
    {
     "name": "stdout",
     "output_type": "stream",
     "text": [
      "('周一', '周二', '周三', '周四', '周五')\n"
     ]
    }
   ],
   "source": [
    "def getworkdays():\n",
    "    return '周一','周二','周三','周四','周五'\n",
    "\n",
    "result = getworkdays()\n",
    "print(result)"
   ]
  },
  {
   "cell_type": "markdown",
   "metadata": {},
   "source": [
    "可以看到，多个返回值自动变成了一个元组  \n",
    "这里有一个注意点是说：*元组语法不一定要带上圆括号*  \n",
    "那我们返回序列对象试试"
   ]
  },
  {
   "cell_type": "code",
   "execution_count": 28,
   "metadata": {},
   "outputs": [
    {
     "name": "stdout",
     "output_type": "stream",
     "text": [
      "[0, 2, 4, 6, 8]\n"
     ]
    }
   ],
   "source": [
    "def getoddnums(limit):\n",
    "    return [i for i in range(limit) if i % 2 == 0]\n",
    "\n",
    "result = getoddnums(10)\n",
    "print(result)"
   ]
  },
  {
   "cell_type": "markdown",
   "metadata": {},
   "source": [
    "这个列表解析能读懂吧？  \n",
    "你可以先不会写，先要读懂里面的逻辑  \n",
    "首先是一个循环，然后判断它是不是偶数，满足条件才能放到list中的格子里面  \n",
    "\n",
    "此外，函数返回列表也是没有问题的"
   ]
  },
  {
   "cell_type": "markdown",
   "metadata": {},
   "source": [
    "返回一个列表是一个对象，我们直接用一个参数接收就行了。"
   ]
  },
  {
   "cell_type": "code",
   "execution_count": 40,
   "metadata": {},
   "outputs": [
    {
     "name": "stdout",
     "output_type": "stream",
     "text": [
      "Tom 20 cat ['book', 'Jerry']\n",
      "<class 'str'> <class 'int'> <class 'str'> <class 'list'>\n"
     ]
    }
   ],
   "source": [
    "def getinfo():\n",
    "    return 'Tom',20,'cat',['book','Jerry']\n",
    "\n",
    "# result = getinfo()\n",
    "name, age, category, likes = getinfo()\n",
    "print(name, age, category, likes)\n",
    "print(type(name), type(age), type(category), type(likes))"
   ]
  },
  {
   "cell_type": "markdown",
   "metadata": {},
   "source": [
    "你可以直接理解成`解包`，一一对应。"
   ]
  },
  {
   "cell_type": "markdown",
   "metadata": {},
   "source": [
    "讲完了函数的定义和返回，  \n",
    "详细看一下函数的参数。  \n",
    "**传参**"
   ]
  },
  {
   "cell_type": "code",
   "execution_count": 49,
   "metadata": {},
   "outputs": [
    {
     "name": "stdout",
     "output_type": "stream",
     "text": [
      "Lisa 你的年纪为 12 未满十八周岁!\n",
      "Lock 欢迎您！\n",
      "Tim 你的年纪为 17 未满十八周岁!\n",
      "Ivan 欢迎您！\n"
     ]
    }
   ],
   "source": [
    "def bar(name, age):\n",
    "    if age>= 18:\n",
    "        print(name,'欢迎您！')\n",
    "    else:\n",
    "        print(name,'你的年纪为',age,'未满十八周岁!')\n",
    "    \n",
    "bar('Lisa', 12)\n",
    "bar('Lock', age=29)\n",
    "bar(name='Tim', age=17)\n",
    "bar(age=19, name='Ivan')\n",
    "# bar(name='Lucio', 19) # error"
   ]
  },
  {
   "cell_type": "markdown",
   "metadata": {},
   "source": [
    "这个不需要去死记硬背，理解就好，或者你注意到error信息就好。"
   ]
  },
  {
   "cell_type": "code",
   "execution_count": 50,
   "metadata": {},
   "outputs": [],
   "source": [
    "def template(arg1, arg2):\n",
    "    \"\"\"\n",
    "    This is a introduction of function\n",
    "    \"\"\"\n",
    "    # some codes\n",
    "    pass"
   ]
  },
  {
   "cell_type": "markdown",
   "metadata": {},
   "source": [
    "python中的函数除了多个参数之外，还支持默认参数  \n",
    "默认参数是在位置参数后面"
   ]
  },
  {
   "cell_type": "code",
   "execution_count": 56,
   "metadata": {},
   "outputs": [
    {
     "name": "stdout",
     "output_type": "stream",
     "text": [
      "今日午餐:\n",
      "主食: 米饭\n",
      "菜品: 宫保鸡丁\n",
      "甜点: 老北京酸奶\n",
      "下午茶: 咖啡\n",
      "**********\n",
      "今日午餐:\n",
      "主食: 米饭\n",
      "菜品: 宫保鸡丁\n",
      "甜点: 老北京酸奶\n",
      "下午茶: 金桔柠檬\n",
      "**********\n",
      "今日午餐:\n",
      "主食: 米饭\n",
      "菜品: 宫保鸡丁\n",
      "甜点: 老北京酸奶\n",
      "下午茶: None\n"
     ]
    }
   ],
   "source": [
    "def mylunch(food, dish, dessert, tea='咖啡'):\n",
    "    print('今日午餐:')\n",
    "    print('主食:', food)\n",
    "    print('菜品:', dish)\n",
    "    print('甜点:', dessert)\n",
    "    print('下午茶:', tea)\n",
    "    \n",
    "mylunch('米饭','宫保鸡丁','老北京酸奶')\n",
    "print('*'*10)\n",
    "mylunch('米饭','宫保鸡丁','老北京酸奶','金桔柠檬')\n",
    "print('*'*10)\n",
    "mylunch('米饭','宫保鸡丁','老北京酸奶', tea=None)"
   ]
  },
  {
   "cell_type": "markdown",
   "metadata": {},
   "source": [
    "然后是参数的两个高阶使用效果  \n",
    "\n",
    "第一个：参数解包"
   ]
  },
  {
   "cell_type": "code",
   "execution_count": 58,
   "metadata": {},
   "outputs": [
    {
     "name": "stdout",
     "output_type": "stream",
     "text": [
      "午餐包括： 汉堡\n",
      "午餐包括： 可乐\n"
     ]
    }
   ],
   "source": [
    "def mylunch(*foods):\n",
    "    for food in foods:\n",
    "        print('午餐包括：',food)\n",
    "        \n",
    "mylunch('汉堡','可乐')"
   ]
  },
  {
   "cell_type": "code",
   "execution_count": 59,
   "metadata": {},
   "outputs": [
    {
     "name": "stdout",
     "output_type": "stream",
     "text": [
      "午餐包括： 汉堡\n",
      "午餐包括： 可乐\n",
      "午餐包括： 炸鸡\n",
      "午餐包括： 火腿\n"
     ]
    }
   ],
   "source": [
    "def mylunch(*foods):\n",
    "    for food in foods:\n",
    "        print('午餐包括：',food)\n",
    "        \n",
    "mylunch('汉堡','可乐','炸鸡','火腿')"
   ]
  },
  {
   "cell_type": "markdown",
   "metadata": {},
   "source": [
    "所以*参数能接收不定长的参数。"
   ]
  },
  {
   "cell_type": "markdown",
   "metadata": {},
   "source": [
    "另外一个高级的使用是 **"
   ]
  },
  {
   "cell_type": "code",
   "execution_count": 65,
   "metadata": {},
   "outputs": [
    {
     "name": "stdout",
     "output_type": "stream",
     "text": [
      "----------\n",
      "formal arg1: China\n",
      "formal arg2: USA\n",
      "----------\n",
      "formal arg1: 10\n",
      "formal arg2: 20\n",
      "3 th args: 30\n",
      "4 th args: 40\n",
      "5 th args: ?\n"
     ]
    }
   ],
   "source": [
    "# enumate 函数的介绍\n",
    "def dictVarArgs(arg1, arg2='default_parameters', *args):\n",
    "    \"\"\"\n",
    "    This function is a sample of input parameters.\n",
    "    \"\"\"\n",
    "    print('-'*10)\n",
    "    print('formal arg1:', arg1)\n",
    "    print('formal arg2:', arg2)\n",
    "    for xth, eachXtrArg in enumerate(args):\n",
    "        print(xth+3, 'th args:', eachXtrArg)\n",
    "\n",
    "dictVarArgs('China','USA')\n",
    "dictVarArgs(10,20,30,40,'?')"
   ]
  },
  {
   "cell_type": "code",
   "execution_count": 74,
   "metadata": {},
   "outputs": [
    {
     "name": "stdout",
     "output_type": "stream",
     "text": [
      "formal arg1: 10\n",
      "formal arg2: default_parameters_values\n",
      "class_no \t: nlp5\n",
      "type_no \t: formal\n",
      "due_date \t: 2020-01-01\n"
     ]
    }
   ],
   "source": [
    "# 如果不懂\n",
    "# \\t\n",
    "# dict的遍历\n",
    "def dictVarArgs(arg1, arg2='default_parameters_values', **theRest):\n",
    "    \"\"\"\n",
    "    This function is a sample of input parameters.\n",
    "    \"\"\"\n",
    "    print('formal arg1:', arg1)\n",
    "    print('formal arg2:', arg2)\n",
    "    for k,v in theRest.items():\n",
    "        print(k,'\\t:',v)\n",
    "        \n",
    "dictVarArgs(10, class_no='nlp5', type_no='formal', due_date='2020-01-01')"
   ]
  },
  {
   "cell_type": "markdown",
   "metadata": {},
   "source": [
    "函数的参数基本介绍完了  \n",
    "函数的其它注意点  \n",
    "函数嵌套"
   ]
  },
  {
   "cell_type": "code",
   "execution_count": 75,
   "metadata": {},
   "outputs": [
    {
     "name": "stdout",
     "output_type": "stream",
     "text": [
      "欢迎来到KKB！\n",
      "您已下单: 可乐\n",
      "您已下单: 汉堡\n"
     ]
    }
   ],
   "source": [
    "def hello():\n",
    "    print('欢迎来到KKB！')\n",
    "    \n",
    "def order(*foods):\n",
    "    for food in foods:\n",
    "        print('您已下单:', food)\n",
    "        \n",
    "hello()\n",
    "order('可乐','汉堡')"
   ]
  },
  {
   "cell_type": "code",
   "execution_count": 82,
   "metadata": {},
   "outputs": [
    {
     "name": "stdout",
     "output_type": "stream",
     "text": [
      "欢迎来到KKB！\n",
      "您已下单: 兰州拉面\n",
      "您已下单: 卤蛋\n"
     ]
    }
   ],
   "source": [
    "def orde_kkbr(*foods):\n",
    "    def hello_kkb():\n",
    "        print('欢迎来到KKB！')\n",
    "        \n",
    "    hello_kkb()\n",
    "    for food in foods:\n",
    "        print('您已下单:', food)\n",
    "        \n",
    "orde_kkbr('兰州拉面','卤蛋')"
   ]
  },
  {
   "cell_type": "markdown",
   "metadata": {},
   "source": [
    "函数的变量使用范围"
   ]
  },
  {
   "cell_type": "code",
   "execution_count": 2,
   "metadata": {},
   "outputs": [
    {
     "ename": "NameError",
     "evalue": "name 'list_in_func' is not defined",
     "output_type": "error",
     "traceback": [
      "\u001b[0;31m---------------------------------------------------------------------------\u001b[0m",
      "\u001b[0;31mNameError\u001b[0m                                 Traceback (most recent call last)",
      "\u001b[0;32m<ipython-input-2-5a485bfc6f34>\u001b[0m in \u001b[0;36m<module>\u001b[0;34m\u001b[0m\n\u001b[1;32m      2\u001b[0m     \u001b[0mlist_in_func\u001b[0m \u001b[0;34m=\u001b[0m \u001b[0;34m[\u001b[0m\u001b[0;36m1\u001b[0m\u001b[0;34m,\u001b[0m\u001b[0;36m2\u001b[0m\u001b[0;34m,\u001b[0m\u001b[0;36m3\u001b[0m\u001b[0;34m]\u001b[0m\u001b[0;34m\u001b[0m\u001b[0;34m\u001b[0m\u001b[0m\n\u001b[1;32m      3\u001b[0m \u001b[0;34m\u001b[0m\u001b[0m\n\u001b[0;32m----> 4\u001b[0;31m \u001b[0mprint\u001b[0m\u001b[0;34m(\u001b[0m\u001b[0mlist_in_func\u001b[0m\u001b[0;34m)\u001b[0m\u001b[0;34m\u001b[0m\u001b[0;34m\u001b[0m\u001b[0m\n\u001b[0m",
      "\u001b[0;31mNameError\u001b[0m: name 'list_in_func' is not defined"
     ]
    }
   ],
   "source": [
    "# error 所以需要return\n",
    "def func():\n",
    "    list_in_func = [1,2,3]\n",
    "    \n",
    "print(list_in_func)"
   ]
  },
  {
   "cell_type": "code",
   "execution_count": 5,
   "metadata": {},
   "outputs": [
    {
     "name": "stdin",
     "output_type": "stream",
     "text": [
      "请输入周1收入: 10\n",
      "请输入周2收入: 21\n",
      "请输入周3收入: 43\n",
      "请输入周4收入: 21\n",
      "请输入周5收入: 72\n",
      "请输入周6收入: 54\n",
      "请输入周7收入: 87\n",
      "请输入周1支出: 14\n",
      "请输入周2支出: 32\n",
      "请输入周3支出: 54\n",
      "请输入周4支出: 6\n",
      "请输入周5支出: 36\n",
      "请输入周6支出: 31\n",
      "请输入周7支出: 24\n"
     ]
    },
    {
     "name": "stdout",
     "output_type": "stream",
     "text": [
      "收入的最大值： 87\n",
      "收入的最小值: 10\n",
      "收入的和: 308\n",
      "收入的平均: 44.0\n",
      "支出的最大值： 54\n",
      "支出的最小值: 6\n",
      "支出的和: 197\n",
      "支出的平均: 28.142857142857142\n"
     ]
    }
   ],
   "source": [
    "def find_max(numbers):\n",
    "    _max = -1\n",
    "    for i in numbers:\n",
    "        if i > _max:\n",
    "            _max = i\n",
    "    return _max\n",
    "\n",
    "def find_min(numbers):\n",
    "    _min = numbers[0]\n",
    "    for i in numbers:\n",
    "        if i < _min:\n",
    "            _min = i\n",
    "    return _min\n",
    "\n",
    "def compute_sum(numbers):\n",
    "    _sum = 0\n",
    "    for i in numbers:\n",
    "        _sum += i\n",
    "    return _sum\n",
    "\n",
    "def compute_avg(numbers):\n",
    "    _sum = compute_sum(numbers)\n",
    "    return _sum / len(numbers)\n",
    "\n",
    "\n",
    "# copy homework code\n",
    "incomes = []\n",
    "outputs = []\n",
    "balances = dict()\n",
    "\n",
    "for i in range(7):\n",
    "    day_incomes = int(input('请输入周'+str(i+1)+'收入:'))\n",
    "    incomes.append(day_incomes)\n",
    "\n",
    "for i in range(7):\n",
    "    day_output = int(input('请输入周'+str(i+1)+'支出:'))\n",
    "    outputs.append(day_output)\n",
    "\n",
    "# print('7天的收入：')\n",
    "# for i in incomes:\n",
    "#     print(i)\n",
    "# print('7天的支出：')\n",
    "# for i in incomes:\n",
    "#     print(i)\n",
    "\n",
    "for i in range(7):\n",
    "    balances[i] = incomes[i] - outputs[i]\n",
    "\n",
    "# print('7天的收支结余：')\n",
    "# for day,balance in balances.items():\n",
    "#     print('周',day+1,'结余为:', balance)\n",
    "\n",
    "# print('最终的结余为:', sum(incomes) - sum(outputs))\n",
    "\n",
    "print('收入的最大值：', find_max(incomes))\n",
    "print('收入的最小值:', find_min(incomes))\n",
    "print('收入的和:', compute_sum(incomes))\n",
    "print('收入的平均:', compute_avg(incomes))\n",
    "print('支出的最大值：', find_max(outputs))\n",
    "print('支出的最小值:', find_min(outputs))\n",
    "print('支出的和:', compute_sum(outputs))\n",
    "print('支出的平均:', compute_avg(outputs))"
   ]
  },
  {
   "cell_type": "markdown",
   "metadata": {},
   "source": [
    "# 作业"
   ]
  },
  {
   "cell_type": "markdown",
   "metadata": {},
   "source": [
    "## 1. 实现`print`函数\n",
    "定义一个函数`print_string`，返回一个字符串。  \n",
    "`print_string`函数支持输入多个参数，每个参数间使用参数`sep`(默认一个空格)的字符进行连接，并且最后还要添加一个`end`(默认一个换行)参数的字符。  \n",
    "比如\n",
    "- `print_string('This is a test')` 返回`a\\n`  \n",
    "- `print_string('This', 'is', 'a', 'test')` 返回`This is a test\\n`\n",
    "- `print_string('This', 'is', 'a', 'test', sep = '-')` 返回`This-is-a-test\\n`\n",
    "- `print_string('This', 'is', 'a', 'test', ',', 'Yes', sep = '_', end = '.')` 返回`This_is_a_test_,_Yes.`"
   ]
  },
  {
   "cell_type": "markdown",
   "metadata": {},
   "source": [
    "## 2. 打印斐波那契数列\n",
    "以三种方式打印波那契数列    \n",
    "给定一个数值n，将前n项的波那契数列打印出来"
   ]
  }
 ],
 "metadata": {
  "kernelspec": {
   "display_name": "Python 3",
   "language": "python",
   "name": "python3"
  },
  "language_info": {
   "codemirror_mode": {
    "name": "ipython",
    "version": 3
   },
   "file_extension": ".py",
   "mimetype": "text/x-python",
   "name": "python",
   "nbconvert_exporter": "python",
   "pygments_lexer": "ipython3",
   "version": "3.7.2"
  }
 },
 "nbformat": 4,
 "nbformat_minor": 4
}
