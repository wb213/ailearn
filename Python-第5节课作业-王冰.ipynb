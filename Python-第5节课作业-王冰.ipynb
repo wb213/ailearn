{
 "cells": [
  {
   "cell_type": "markdown",
   "metadata": {},
   "source": [
    "各位同学，大家好!  欢迎各位开始学习我们的人工智能课程。  \n",
    "这门课程假设大家不具备机器学习和人工智能的知识，但是希望大家具备初级的Python编程能力。  \n",
    "这门课程结束后，希望大家掌握Python语言以及人工智能基础知识，对CV，NLP，RS领域有一定深入的理解与编程能力。"
   ]
  },
  {
   "cell_type": "markdown",
   "metadata": {},
   "source": [
    "# 本次作业要求"
   ]
  },
  {
   "cell_type": "markdown",
   "metadata": {},
   "source": [
    "## 作业形式"
   ]
  },
  {
   "cell_type": "markdown",
   "metadata": {},
   "source": [
    "复现课程代码  \n",
    "完成课后作业"
   ]
  },
  {
   "cell_type": "markdown",
   "metadata": {},
   "source": [
    "## 作业提交方式"
   ]
  },
  {
   "cell_type": "markdown",
   "metadata": {},
   "source": [
    "完成填写此`jupyter`文件，提交至自己的github，或通过KKB作业平台提交附件"
   ]
  },
  {
   "cell_type": "markdown",
   "metadata": {},
   "source": [
    "## 作业截止时间"
   ]
  },
  {
   "cell_type": "markdown",
   "metadata": {},
   "source": [
    "每次课程作业都会在下次课程(2019年11月8日)进行讲解，请在一周内尽快提交。  \n",
    "此次作业批改截止时间：2019年11月15日"
   ]
  },
  {
   "cell_type": "markdown",
   "metadata": {},
   "source": [
    "# 完成以下问答和编程练习"
   ]
  },
  {
   "cell_type": "markdown",
   "metadata": {},
   "source": [
    "**理论部分**\n",
    "1. 验证多重继承的属性规则，请选择\n",
    "- 就近原则\n",
    "- 随机原则\n",
    "- 类定义的先后原则\n"
   ]
  },
  {
   "cell_type": "code",
   "execution_count": 17,
   "metadata": {},
   "outputs": [
    {
     "name": "stdout",
     "output_type": "stream",
     "text": [
      "<class '__main__.A0'>\n",
      "A0\n",
      "<class '__main__.A1'>\n",
      "1\n",
      "<class '__main__.A2'>\n",
      "A0\n",
      "2\n",
      "<class '__main__.A3'>\n",
      "A3\n",
      "<class '__main__.A4'>\n",
      "A0\n",
      "1\n"
     ]
    }
   ],
   "source": [
    "class A0:\n",
    "    name = 'A0'\n",
    "    \n",
    "class A2(A0):\n",
    "    num = 2\n",
    "    \n",
    "class A1:\n",
    "    num = 1\n",
    "    \n",
    "class A3:\n",
    "    name = 'A3'\n",
    "    \n",
    "class A4(A1,A2,A3):\n",
    "    pass\n",
    "\n",
    "dir(A1)\n",
    "ins = A0()\n",
    "print(ins.__class__)\n",
    "print(ins.name) # A0\n",
    "#print(ins.num)\n",
    "ins = A1()\n",
    "print(ins.__class__)\n",
    "#print(ins.name)\n",
    "print(ins.num) # 1\n",
    "ins = A2()\n",
    "print(ins.__class__)\n",
    "print(ins.name) # A0\n",
    "print(ins.num) # 2\n",
    "ins = A3()\n",
    "print(ins.__class__)\n",
    "print(ins.name) # A0\n",
    "#print(ins.num)\n",
    "ins = A4()\n",
    "print(ins.__class__)\n",
    "print(ins.name) # A0\n",
    "print(ins.num) # 1\n"
   ]
  },
  {
   "cell_type": "markdown",
   "metadata": {},
   "source": [
    "1. 验证多重继承的属性规则: **类定义的先后原则**"
   ]
  },
  {
   "cell_type": "markdown",
   "metadata": {},
   "source": [
    "**编程实践部分**"
   ]
  },
  {
   "cell_type": "markdown",
   "metadata": {},
   "source": [
    "1. 完成ATM的类实现  \n",
    "将第二次课程的ATM机器改写成类实现"
   ]
  },
  {
   "cell_type": "code",
   "execution_count": 9,
   "metadata": {},
   "outputs": [
    {
     "data": {
      "text/plain": [
       "True"
      ]
     },
     "execution_count": 9,
     "metadata": {},
     "output_type": "execute_result"
    }
   ],
   "source": [
    "0 == False"
   ]
  },
  {
   "cell_type": "code",
   "execution_count": 8,
   "metadata": {},
   "outputs": [
    {
     "name": "stdin",
     "output_type": "stream",
     "text": [
      "\n",
      "        ===========\n",
      "        Please select\n",
      "        1. Check account balance\n",
      "        2. Account deposit\n",
      "        3. Account withdraw\n",
      "        4. Exit\n",
      "        ===========\n",
      "\n",
      "         1\n"
     ]
    },
    {
     "name": "stdout",
     "output_type": "stream",
     "text": [
      "your balance is: 0\n"
     ]
    },
    {
     "name": "stdin",
     "output_type": "stream",
     "text": [
      "\n",
      "        ===========\n",
      "        Please select\n",
      "        1. Check account balance\n",
      "        2. Account deposit\n",
      "        3. Account withdraw\n",
      "        4. Exit\n",
      "        ===========\n",
      "\n",
      "         \n"
     ]
    },
    {
     "name": "stdout",
     "output_type": "stream",
     "text": [
      "Invalid input, please check and input agian.\n"
     ]
    },
    {
     "name": "stdin",
     "output_type": "stream",
     "text": [
      "\n",
      "        ===========\n",
      "        Please select\n",
      "        1. Check account balance\n",
      "        2. Account deposit\n",
      "        3. Account withdraw\n",
      "        4. Exit\n",
      "        ===========\n",
      "\n",
      "         a\n"
     ]
    },
    {
     "name": "stdout",
     "output_type": "stream",
     "text": [
      "Invalid input, please check and input agian.\n"
     ]
    },
    {
     "name": "stdin",
     "output_type": "stream",
     "text": [
      "\n",
      "        ===========\n",
      "        Please select\n",
      "        1. Check account balance\n",
      "        2. Account deposit\n",
      "        3. Account withdraw\n",
      "        4. Exit\n",
      "        ===========\n",
      "\n",
      "         =2\n"
     ]
    },
    {
     "name": "stdout",
     "output_type": "stream",
     "text": [
      "Invalid input, please check and input agian.\n"
     ]
    },
    {
     "name": "stdin",
     "output_type": "stream",
     "text": [
      "\n",
      "        ===========\n",
      "        Please select\n",
      "        1. Check account balance\n",
      "        2. Account deposit\n",
      "        3. Account withdraw\n",
      "        4. Exit\n",
      "        ===========\n",
      "\n",
      "         -22\n"
     ]
    },
    {
     "name": "stdout",
     "output_type": "stream",
     "text": [
      "Invalid input, please check and input agian.\n"
     ]
    },
    {
     "name": "stdin",
     "output_type": "stream",
     "text": [
      "\n",
      "        ===========\n",
      "        Please select\n",
      "        1. Check account balance\n",
      "        2. Account deposit\n",
      "        3. Account withdraw\n",
      "        4. Exit\n",
      "        ===========\n",
      "\n",
      "         2\n",
      "Plase input the deposit amount 134ggh\n"
     ]
    },
    {
     "name": "stdout",
     "output_type": "stream",
     "text": [
      "Invalid amount, please check and input decimal amount.\n"
     ]
    },
    {
     "name": "stdin",
     "output_type": "stream",
     "text": [
      "\n",
      "        ===========\n",
      "        Please select\n",
      "        1. Check account balance\n",
      "        2. Account deposit\n",
      "        3. Account withdraw\n",
      "        4. Exit\n",
      "        ===========\n",
      "\n",
      "         2\n",
      "Plase input the deposit amount 1234\n"
     ]
    },
    {
     "name": "stdout",
     "output_type": "stream",
     "text": [
      "Done. You have deposit 1234.0 to your accont and its current balance is: 1234.0\n"
     ]
    },
    {
     "name": "stdin",
     "output_type": "stream",
     "text": [
      "\n",
      "        ===========\n",
      "        Please select\n",
      "        1. Check account balance\n",
      "        2. Account deposit\n",
      "        3. Account withdraw\n",
      "        4. Exit\n",
      "        ===========\n",
      "\n",
      "         3\n",
      "Please input the withdraw amount -123\n"
     ]
    },
    {
     "name": "stdout",
     "output_type": "stream",
     "text": [
      "Invalid amount, please check and input again.\n"
     ]
    },
    {
     "name": "stdin",
     "output_type": "stream",
     "text": [
      "\n",
      "        ===========\n",
      "        Please select\n",
      "        1. Check account balance\n",
      "        2. Account deposit\n",
      "        3. Account withdraw\n",
      "        4. Exit\n",
      "        ===========\n",
      "\n",
      "         3\n",
      "Please input the withdraw amount aa\n"
     ]
    },
    {
     "name": "stdout",
     "output_type": "stream",
     "text": [
      "Invalid amount, please check and input decimal amount.\n"
     ]
    },
    {
     "name": "stdin",
     "output_type": "stream",
     "text": [
      "\n",
      "        ===========\n",
      "        Please select\n",
      "        1. Check account balance\n",
      "        2. Account deposit\n",
      "        3. Account withdraw\n",
      "        4. Exit\n",
      "        ===========\n",
      "\n",
      "         3\n",
      "Please input the withdraw amount 122\n"
     ]
    },
    {
     "name": "stdout",
     "output_type": "stream",
     "text": [
      "Done. You have deposit 122.0 to your accont and its current balance is: 1112.0\n"
     ]
    },
    {
     "name": "stdin",
     "output_type": "stream",
     "text": [
      "\n",
      "        ===========\n",
      "        Please select\n",
      "        1. Check account balance\n",
      "        2. Account deposit\n",
      "        3. Account withdraw\n",
      "        4. Exit\n",
      "        ===========\n",
      "\n",
      "         3\n",
      "Please input the withdraw amount 122\n"
     ]
    },
    {
     "name": "stdout",
     "output_type": "stream",
     "text": [
      "Done. You have deposit 122.0 to your accont and its current balance is: 990.0\n"
     ]
    },
    {
     "name": "stdin",
     "output_type": "stream",
     "text": [
      "\n",
      "        ===========\n",
      "        Please select\n",
      "        1. Check account balance\n",
      "        2. Account deposit\n",
      "        3. Account withdraw\n",
      "        4. Exit\n",
      "        ===========\n",
      "\n",
      "         4\n"
     ]
    },
    {
     "name": "stdout",
     "output_type": "stream",
     "text": [
      "thanks for using, see you.\n"
     ]
    }
   ],
   "source": [
    "class ATM:\n",
    "    def __init__(self):\n",
    "        self.balance = 0\n",
    "        \n",
    "    def getamount(self, desc):\n",
    "        try:\n",
    "            amount = input(desc)\n",
    "            amount = round(float(amount),2)\n",
    "\n",
    "            if amount <= 0:\n",
    "                print(\"Invalid amount, please check and input again.\")\n",
    "                return -999\n",
    "\n",
    "        except ValueError:\n",
    "            print(\"Invalid amount, please check and input decimal amount.\")\n",
    "            return -999\n",
    "        \n",
    "        return amount\n",
    "            \n",
    "    def checkbal(self):\n",
    "        print('your balance is: {}'.format(round(self.balance,2)))\n",
    "        \n",
    "    def deposit(self): \n",
    "        amount = self.getamount('Plase input the deposit amount')\n",
    "        if amount >= 0:\n",
    "            self.balance += amount\n",
    "            print('Done. You have deposit {} to your accont and its current balance is: {}'.format(amount, round(self.balance,2)))\n",
    "            \n",
    "    def withdraw(self):\n",
    "        amount = self.getamount('Please input the withdraw amount')\n",
    "        if amount >= 0 and amount <= self.balance:\n",
    "            self.balance -= amount\n",
    "            print('Done. You have withdraw {} to your accont and its current balance is: {}'.format(amount, round(self.balance,2)))\n",
    "        elif amount > self.balance:\n",
    "            print(\"You can't withdraw amount greater than your existing balance, please check and input again.\")\n",
    "        \n",
    "    def display(self):\n",
    "        menu = \"\"\"\n",
    "        ===========\n",
    "        Please select\n",
    "        1. Check account balance\n",
    "        2. Account deposit\n",
    "        3. Account withdraw\n",
    "        4. Exit\n",
    "        ===========\n",
    "\n",
    "        \"\"\"\n",
    "        cmd = 0\n",
    "        while cmd != 4:\n",
    "            try:\n",
    "                cmd = int(input(menu))\n",
    "            except Exception:\n",
    "                print(\"Invalid input, please check and input agian.\")\n",
    "                continue\n",
    "    \n",
    "            if   cmd == 1 :\n",
    "                self.checkbal()\n",
    "            elif cmd == 2 :\n",
    "                self.deposit()\n",
    "            elif cmd == 3:\n",
    "                self.withdraw()\n",
    "            elif cmd == 4:\n",
    "                print('thanks for using, see you.')\n",
    "            else:\n",
    "                print('Invalid input, please check and input agian.')\n",
    "    \n",
    "\n",
    "atm = ATM()\n",
    "atm.display()"
   ]
  },
  {
   "cell_type": "markdown",
   "metadata": {},
   "source": [
    "2. 练习会先提供一个李靖类，用以记录人物角色的战斗力。需要你创建一个子类哪吒类，提供属性和参数的修改。  \n",
    "要求： 在哪吒的初始化方法中，默认添加`['混天绫', '乾坤圈']` 两个装备,以及初始化战斗力为50."
   ]
  },
  {
   "cell_type": "code",
   "execution_count": 10,
   "metadata": {},
   "outputs": [
    {
     "name": "stdout",
     "output_type": "stream",
     "text": [
      "[]\n",
      "60\n"
     ]
    }
   ],
   "source": [
    "# 代码不用修改，读懂后运行即可。\n",
    "class Lijing: # 李靖\n",
    "    # 初始化函数，为每个实例创建4个参数（其中后3个参数有默认值）\n",
    "    def __init__(self, name, weapons=[], power=10): \n",
    "        self.name = name\n",
    "        self.weapons = weapons\n",
    "        self.power = power\n",
    "\n",
    "    def count_fight(self, weapon, weapon_power):\n",
    "        self.weapons.append(weapon)\n",
    "        self.power += weapon_power  # 总战力=武器战力之和\n",
    "\n",
    "lijing = Lijing('李靖')\n",
    "print(lijing.weapons)\n",
    "lijing.count_fight('七宝玲珑塔', 50)  # 七宝玲珑塔 战力 50\n",
    "print(lijing.power)"
   ]
  },
  {
   "cell_type": "code",
   "execution_count": 9,
   "metadata": {},
   "outputs": [
    {
     "name": "stdout",
     "output_type": "stream",
     "text": [
      "[]\n",
      "['混天绫', '乾坤圈']\n",
      "['七宝玲珑塔']\n",
      "60\n",
      "['混天绫', '乾坤圈', '火尖枪']\n",
      "90\n"
     ]
    }
   ],
   "source": [
    "class Lijing: # 李靖\n",
    "    # 初始化函数，为每个实例创建4个参数（其中后3个参数有默认值）\n",
    "    def __init__(self, name, weapons=[], power=10): \n",
    "        self.name = name\n",
    "        self.weapons = weapons\n",
    "        self.power = power\n",
    "\n",
    "    def count_fight(self, weapon, weapon_power):\n",
    "        self.weapons.append(weapon)\n",
    "        self.power += weapon_power  # 总战力=武器战力之和\n",
    "        \n",
    "# your code here        \n",
    "# 请你完成子类的定制（包括初始化方法和count_fight函数）\n",
    "class Nezha(Lijing): # 哪吒\n",
    "    def __init__(self, name, weapons=[], power=50):\n",
    "        self.name = name\n",
    "        self.weapons = ['混天绫', '乾坤圈']\n",
    "        self.power = power\n",
    "    \n",
    "    # count_fight跟父类一致，继承就可以了\n",
    "    #def count_fight(self, weapon, weapon_power):\n",
    "    #    self.weapons.append(weapon)\n",
    "    #    self.power += weapon_power  # 总战力=武器战力之和\n",
    "    \n",
    "# 通过两个实例，完成子类和父类的对比（可自行验证）\n",
    "lijing = Lijing('李靖')\n",
    "nezha = Nezha('哪吒')\n",
    "print(lijing.weapons)\n",
    "print(nezha.weapons)\n",
    "lijing.count_fight('七宝玲珑塔', 50)  # 七宝玲珑塔 战力 50\n",
    "print(lijing.weapons)\n",
    "print(lijing.power)\n",
    "nezha.count_fight('火尖枪', 40)  #\n",
    "print(nezha.weapons)\n",
    "print(nezha.power)"
   ]
  }
 ],
 "metadata": {
  "kernelspec": {
   "display_name": "Python 3",
   "language": "python",
   "name": "python3"
  },
  "language_info": {
   "codemirror_mode": {
    "name": "ipython",
    "version": 3
   },
   "file_extension": ".py",
   "mimetype": "text/x-python",
   "name": "python",
   "nbconvert_exporter": "python",
   "pygments_lexer": "ipython3",
   "version": "3.7.4"
  }
 },
 "nbformat": 4,
 "nbformat_minor": 4
}
