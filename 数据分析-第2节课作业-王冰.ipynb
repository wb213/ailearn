{
 "cells": [
  {
   "cell_type": "markdown",
   "metadata": {},
   "source": [
    "# 作业2 股票数据清洗\n",
    "\n",
    "同学们好，本次作业的主要内容为使用pandas进行数据预处理。希望这两天你们已经从Python的课程内容中回过神来了。\n",
    "没有数据的分析是无源之水，能够熟练处理数据是成为合格的数据分析师的基本要求，希望大家在今后多多实战，成为数据大师。\n",
    "\n",
    "本次作业将使用公开标普500的股票数据。\n",
    "https://www.kaggle.com/dgawlik/nyse#prices-split-adjusted.csv\n",
    "\n",
    "作业的形式以问答为主，因为不涉及过长的代码，核心是数据的操作，所以这里没有太多的代码模板可供大家参考。\n",
    "希望大家能从搜索引擎（google/bing）问答社区（stackoverflow）或者[官方文档](https://pandas.pydata.org/pandas-docs/stable/user_guide/index.html)或者我提供的jupyter notebooks 中找到回答问题需要的方法。\n",
    "请时刻牢记数据的增删改查四种原子操作，思考我们的问题可以被如何分解。\n",
    "\n",
    "那么首先，我们要import pandas"
   ]
  },
  {
   "cell_type": "code",
   "execution_count": 30,
   "metadata": {},
   "outputs": [],
   "source": [
    "import pandas as pd"
   ]
  },
  {
   "cell_type": "markdown",
   "metadata": {},
   "source": [
    "# 1. 从fundemantals.csv开始！\n",
    "\n",
    "fundemantals.csv 是这些股票的年报数据\n",
    "\n",
    "请用数据回答以下问题：\n",
    "\n",
    "1. S&P500股票在2015年`net income`的均值是多少？最大值比最小值多多少？（每问10分，共计20分）\n",
    "2. S&P500股票在2016年的固定资产（fixed assets）占总资产(total assets)比例的均值是多少？固定资产占总资产比例最小的股票是的代码（ticker symbol）是什么？（每问10分，共计20分）\n"
   ]
  },
  {
   "cell_type": "markdown",
   "metadata": {},
   "source": [
    "## 回答\n",
    "\n",
    "- **S&P500股票在2015年net income的均值是多少？**: 1560252997.752809\n",
    "- **最大值比最小值多多少？**: 76922000000\n",
    "\n",
    "\n",
    "- **S&P500股票在2016年的固定资产（fixed assets）占总资产(total assets)比例的均值是多少？**: 24.43%\n",
    "- **固定资产占总资产比例最小的股票是的代码（ticker symbol）是什么？**: LEN,TRV"
   ]
  },
  {
   "cell_type": "code",
   "execution_count": 31,
   "metadata": {},
   "outputs": [
    {
     "name": "stdout",
     "output_type": "stream",
     "text": [
      "1560252997.752809\n",
      "76922000000.0\n"
     ]
    }
   ],
   "source": [
    "df = pd.read_csv('fundamentals.csv')\n",
    "df['date'] = pd.to_datetime(df['Period Ending']).map(lambda x: x.strftime('%Y'))\n",
    "df.set_index('date')\n",
    "data1 = df['Net Income'][df['date'] == '2015']\n",
    "\n",
    "print(data1.mean())\n",
    "print(data1.max() - data1.min())"
   ]
  },
  {
   "cell_type": "code",
   "execution_count": 32,
   "metadata": {},
   "outputs": [
    {
     "name": "stdout",
     "output_type": "stream",
     "text": [
      "Fixed Assets    7.228858e+09\n",
      "Total Assets    2.971114e+10\n",
      "percent         2.442821e+01\n",
      "dtype: float64\n",
      "Fixed Assets               0\n",
      "Total Assets     1.77797e+09\n",
      "Ticker Symbol            AAP\n",
      "percent                    0\n",
      "dtype: object\n"
     ]
    },
    {
     "data": {
      "text/html": [
       "<div>\n",
       "<style scoped>\n",
       "    .dataframe tbody tr th:only-of-type {\n",
       "        vertical-align: middle;\n",
       "    }\n",
       "\n",
       "    .dataframe tbody tr th {\n",
       "        vertical-align: top;\n",
       "    }\n",
       "\n",
       "    .dataframe thead th {\n",
       "        text-align: right;\n",
       "    }\n",
       "</style>\n",
       "<table border=\"1\" class=\"dataframe\">\n",
       "  <thead>\n",
       "    <tr style=\"text-align: right;\">\n",
       "      <th></th>\n",
       "      <th>Fixed Assets</th>\n",
       "      <th>Total Assets</th>\n",
       "      <th>Ticker Symbol</th>\n",
       "      <th>percent</th>\n",
       "    </tr>\n",
       "  </thead>\n",
       "  <tbody>\n",
       "    <tr>\n",
       "      <td>950</td>\n",
       "      <td>0.0</td>\n",
       "      <td>1.536178e+10</td>\n",
       "      <td>LEN</td>\n",
       "      <td>0.0</td>\n",
       "    </tr>\n",
       "    <tr>\n",
       "      <td>1545</td>\n",
       "      <td>0.0</td>\n",
       "      <td>1.002450e+11</td>\n",
       "      <td>TRV</td>\n",
       "      <td>0.0</td>\n",
       "    </tr>\n",
       "  </tbody>\n",
       "</table>\n",
       "</div>"
      ],
      "text/plain": [
       "      Fixed Assets  Total Assets Ticker Symbol  percent\n",
       "950            0.0  1.536178e+10           LEN      0.0\n",
       "1545           0.0  1.002450e+11           TRV      0.0"
      ]
     },
     "execution_count": 32,
     "metadata": {},
     "output_type": "execute_result"
    }
   ],
   "source": [
    "data2 = df[['Fixed Assets', 'Total Assets', 'Ticker Symbol']][df['date'] == '2016']\n",
    "data2['percent'] = df['Fixed Assets'] / df['Total Assets'] * 100\n",
    "\n",
    "print(data2.mean())\n",
    "print(data2.min(axis=0))\n",
    "data2.loc[data2['percent'] == 0]"
   ]
  },
  {
   "cell_type": "markdown",
   "metadata": {},
   "source": [
    "# 2. 加入securities.csv~\n",
    "\n",
    "securities.csv包含了这些股票的基本信息\n",
    "\n",
    "1. 请列举出各个sector中的加入时间最早的股票名称（10分）\n",
    "2. 请列举出每一个州中加入时间最晚的股票名称（10分）\n"
   ]
  },
  {
   "cell_type": "markdown",
   "metadata": {},
   "source": [
    "## 回答\n",
    "\n",
    "- 请列举出各个sector中的加入时间最早的股票名称： 答案见下表"
   ]
  },
  {
   "cell_type": "code",
   "execution_count": 33,
   "metadata": {
    "scrolled": true
   },
   "outputs": [
    {
     "data": {
      "text/html": [
       "<div>\n",
       "<style scoped>\n",
       "    .dataframe tbody tr th:only-of-type {\n",
       "        vertical-align: middle;\n",
       "    }\n",
       "\n",
       "    .dataframe tbody tr th {\n",
       "        vertical-align: top;\n",
       "    }\n",
       "\n",
       "    .dataframe thead th {\n",
       "        text-align: right;\n",
       "    }\n",
       "</style>\n",
       "<table border=\"1\" class=\"dataframe\">\n",
       "  <thead>\n",
       "    <tr style=\"text-align: right;\">\n",
       "      <th></th>\n",
       "      <th>GICS Sector</th>\n",
       "      <th>Date first added</th>\n",
       "      <th>Security</th>\n",
       "    </tr>\n",
       "  </thead>\n",
       "  <tbody>\n",
       "    <tr>\n",
       "      <td>0</td>\n",
       "      <td>Consumer Discretionary</td>\n",
       "      <td>1970-06-30</td>\n",
       "      <td>McDonald's Corp.</td>\n",
       "    </tr>\n",
       "    <tr>\n",
       "      <td>1</td>\n",
       "      <td>Consumer Staples</td>\n",
       "      <td>1969-03-31</td>\n",
       "      <td>General Mills</td>\n",
       "    </tr>\n",
       "    <tr>\n",
       "      <td>2</td>\n",
       "      <td>Consumer Staples</td>\n",
       "      <td>1969-03-31</td>\n",
       "      <td>The Clorox Company</td>\n",
       "    </tr>\n",
       "    <tr>\n",
       "      <td>3</td>\n",
       "      <td>Energy</td>\n",
       "      <td>1965-03-31</td>\n",
       "      <td>Schlumberger Ltd.</td>\n",
       "    </tr>\n",
       "    <tr>\n",
       "      <td>4</td>\n",
       "      <td>Financials</td>\n",
       "      <td>1975-06-30</td>\n",
       "      <td>JPMorgan Chase &amp; Co.</td>\n",
       "    </tr>\n",
       "    <tr>\n",
       "      <td>5</td>\n",
       "      <td>Health Care</td>\n",
       "      <td>1964-03-31</td>\n",
       "      <td>Abbott Laboratories</td>\n",
       "    </tr>\n",
       "    <tr>\n",
       "      <td>6</td>\n",
       "      <td>Industrials</td>\n",
       "      <td>1964-03-31</td>\n",
       "      <td>Arconic Inc</td>\n",
       "    </tr>\n",
       "    <tr>\n",
       "      <td>7</td>\n",
       "      <td>Industrials</td>\n",
       "      <td>1964-03-31</td>\n",
       "      <td>Honeywell Int'l Inc.</td>\n",
       "    </tr>\n",
       "    <tr>\n",
       "      <td>8</td>\n",
       "      <td>Information Technology</td>\n",
       "      <td>1974-12-31</td>\n",
       "      <td>HP Inc.</td>\n",
       "    </tr>\n",
       "    <tr>\n",
       "      <td>9</td>\n",
       "      <td>Materials</td>\n",
       "      <td>1964-06-30</td>\n",
       "      <td>Sherwin-Williams</td>\n",
       "    </tr>\n",
       "    <tr>\n",
       "      <td>10</td>\n",
       "      <td>Real Estate</td>\n",
       "      <td>2007-01-10</td>\n",
       "      <td>AvalonBay Communities, Inc.</td>\n",
       "    </tr>\n",
       "    <tr>\n",
       "      <td>11</td>\n",
       "      <td>Telecommunications Services</td>\n",
       "      <td>1983-11-30</td>\n",
       "      <td>AT&amp;T Inc</td>\n",
       "    </tr>\n",
       "    <tr>\n",
       "      <td>12</td>\n",
       "      <td>Telecommunications Services</td>\n",
       "      <td>1983-11-30</td>\n",
       "      <td>Verizon Communications</td>\n",
       "    </tr>\n",
       "    <tr>\n",
       "      <td>13</td>\n",
       "      <td>Utilities</td>\n",
       "      <td>1976-06-30</td>\n",
       "      <td>Duke Energy</td>\n",
       "    </tr>\n",
       "    <tr>\n",
       "      <td>14</td>\n",
       "      <td>Utilities</td>\n",
       "      <td>1976-06-30</td>\n",
       "      <td>NextEra Energy</td>\n",
       "    </tr>\n",
       "  </tbody>\n",
       "</table>\n",
       "</div>"
      ],
      "text/plain": [
       "                    GICS Sector Date first added                     Security\n",
       "0        Consumer Discretionary       1970-06-30             McDonald's Corp.\n",
       "1              Consumer Staples       1969-03-31                General Mills\n",
       "2              Consumer Staples       1969-03-31           The Clorox Company\n",
       "3                        Energy       1965-03-31            Schlumberger Ltd.\n",
       "4                    Financials       1975-06-30         JPMorgan Chase & Co.\n",
       "5                   Health Care       1964-03-31          Abbott Laboratories\n",
       "6                   Industrials       1964-03-31                  Arconic Inc\n",
       "7                   Industrials       1964-03-31         Honeywell Int'l Inc.\n",
       "8        Information Technology       1974-12-31                      HP Inc.\n",
       "9                     Materials       1964-06-30             Sherwin-Williams\n",
       "10                  Real Estate       2007-01-10  AvalonBay Communities, Inc.\n",
       "11  Telecommunications Services       1983-11-30                     AT&T Inc\n",
       "12  Telecommunications Services       1983-11-30       Verizon Communications\n",
       "13                    Utilities       1976-06-30                  Duke Energy\n",
       "14                    Utilities       1976-06-30               NextEra Energy"
      ]
     },
     "execution_count": 33,
     "metadata": {},
     "output_type": "execute_result"
    }
   ],
   "source": [
    "df2 = pd.read_csv('securities.csv')\n",
    "df2.dropna(subset=['Date first added'],inplace=True)\n",
    "\n",
    "grouped = df2['Date first added'].groupby(df2['GICS Sector'])\n",
    "d3 = grouped.min()\n",
    "dict_d3 = {'GICS Sector':d3.index, 'Date first added':d3.values}\n",
    "d3d = pd.DataFrame(dict_d3)\n",
    "d4d = df2[['Security', 'GICS Sector', 'Date first added']]\n",
    "d5d = pd.merge(d3d,d4d,how='inner')\n",
    "d5d"
   ]
  },
  {
   "cell_type": "markdown",
   "metadata": {},
   "source": [
    "- 请列举出每一个州中加入时间最晚的股票名称： 答案见下表"
   ]
  },
  {
   "cell_type": "code",
   "execution_count": 34,
   "metadata": {},
   "outputs": [
    {
     "data": {
      "text/html": [
       "<div>\n",
       "<style scoped>\n",
       "    .dataframe tbody tr th:only-of-type {\n",
       "        vertical-align: middle;\n",
       "    }\n",
       "\n",
       "    .dataframe tbody tr th {\n",
       "        vertical-align: top;\n",
       "    }\n",
       "\n",
       "    .dataframe thead th {\n",
       "        text-align: right;\n",
       "    }\n",
       "</style>\n",
       "<table border=\"1\" class=\"dataframe\">\n",
       "  <thead>\n",
       "    <tr style=\"text-align: right;\">\n",
       "      <th></th>\n",
       "      <th>Address of Headquarters</th>\n",
       "      <th>Date first added</th>\n",
       "      <th>Security</th>\n",
       "    </tr>\n",
       "  </thead>\n",
       "  <tbody>\n",
       "    <tr>\n",
       "      <td>0</td>\n",
       "      <td>Allentown, Pennsylvania</td>\n",
       "      <td>1985-04-30</td>\n",
       "      <td>Air Products &amp; Chemicals Inc</td>\n",
       "    </tr>\n",
       "    <tr>\n",
       "      <td>1</td>\n",
       "      <td>Amsterdam, New York</td>\n",
       "      <td>2013-12-23</td>\n",
       "      <td>Mohawk Industries</td>\n",
       "    </tr>\n",
       "    <tr>\n",
       "      <td>2</td>\n",
       "      <td>Arlington, Virginia[3]</td>\n",
       "      <td>2007-01-10</td>\n",
       "      <td>AvalonBay Communities, Inc.</td>\n",
       "    </tr>\n",
       "    <tr>\n",
       "      <td>3</td>\n",
       "      <td>Atlanta, Georgia</td>\n",
       "      <td>2016-05-03</td>\n",
       "      <td>Acuity Brands Inc</td>\n",
       "    </tr>\n",
       "    <tr>\n",
       "      <td>4</td>\n",
       "      <td>Auburn Hills, Michigan</td>\n",
       "      <td>2011-12-19</td>\n",
       "      <td>BorgWarner</td>\n",
       "    </tr>\n",
       "    <tr>\n",
       "      <td>...</td>\n",
       "      <td>...</td>\n",
       "      <td>...</td>\n",
       "      <td>...</td>\n",
       "    </tr>\n",
       "    <tr>\n",
       "      <td>182</td>\n",
       "      <td>Winston-Salem, North Carolina</td>\n",
       "      <td>2015-03-20</td>\n",
       "      <td>Hanesbrands Inc</td>\n",
       "    </tr>\n",
       "    <tr>\n",
       "      <td>183</td>\n",
       "      <td>Woburn, Massachusetts</td>\n",
       "      <td>2015-03-12</td>\n",
       "      <td>Skyworks Solutions</td>\n",
       "    </tr>\n",
       "    <tr>\n",
       "      <td>184</td>\n",
       "      <td>Worsley, UK</td>\n",
       "      <td>2012-10-01</td>\n",
       "      <td>Pentair Ltd.</td>\n",
       "    </tr>\n",
       "    <tr>\n",
       "      <td>185</td>\n",
       "      <td>York, Pennsylvania</td>\n",
       "      <td>2008-11-14</td>\n",
       "      <td>Dentsply Sirona</td>\n",
       "    </tr>\n",
       "    <tr>\n",
       "      <td>186</td>\n",
       "      <td>Zurich, Switzerland</td>\n",
       "      <td>2010-07-15</td>\n",
       "      <td>Chubb Limited</td>\n",
       "    </tr>\n",
       "  </tbody>\n",
       "</table>\n",
       "<p>187 rows × 3 columns</p>\n",
       "</div>"
      ],
      "text/plain": [
       "           Address of Headquarters Date first added  \\\n",
       "0          Allentown, Pennsylvania       1985-04-30   \n",
       "1              Amsterdam, New York       2013-12-23   \n",
       "2           Arlington, Virginia[3]       2007-01-10   \n",
       "3                 Atlanta, Georgia       2016-05-03   \n",
       "4           Auburn Hills, Michigan       2011-12-19   \n",
       "..                             ...              ...   \n",
       "182  Winston-Salem, North Carolina       2015-03-20   \n",
       "183          Woburn, Massachusetts       2015-03-12   \n",
       "184                    Worsley, UK       2012-10-01   \n",
       "185             York, Pennsylvania       2008-11-14   \n",
       "186            Zurich, Switzerland       2010-07-15   \n",
       "\n",
       "                         Security  \n",
       "0    Air Products & Chemicals Inc  \n",
       "1               Mohawk Industries  \n",
       "2     AvalonBay Communities, Inc.  \n",
       "3               Acuity Brands Inc  \n",
       "4                      BorgWarner  \n",
       "..                            ...  \n",
       "182               Hanesbrands Inc  \n",
       "183            Skyworks Solutions  \n",
       "184                  Pentair Ltd.  \n",
       "185               Dentsply Sirona  \n",
       "186                 Chubb Limited  \n",
       "\n",
       "[187 rows x 3 columns]"
      ]
     },
     "execution_count": 34,
     "metadata": {},
     "output_type": "execute_result"
    }
   ],
   "source": [
    "\n",
    "grouped = df2['Date first added'].groupby(df2['Address of Headquarters'])\n",
    "d3 = grouped.max()\n",
    "dict_d3 = {'Address of Headquarters':d3.index, 'Date first added':d3.values}\n",
    "d3d = pd.DataFrame(dict_d3)\n",
    "d4d = df2[['Security', 'Address of Headquarters', 'Date first added']]\n",
    "d5d = pd.merge(d3d,d4d,how='inner')\n",
    "d5d"
   ]
  },
  {
   "cell_type": "markdown",
   "metadata": {},
   "source": [
    "# 3. merge!\n",
    "\n",
    "现在你需要同时处理来自两个表中的信息了\n",
    "\n",
    "1. 请思考，合并两个表的信息的时候，我们应该用什么样的准则对其它们（10分）\n",
    "2. 请列举每个sector在2013-2016年累计Research&Development的总投入（10分）:见下表\n",
    "3. 请列举出每个sector中，在2013-2016年累计Research&development投入最大的3家公司的名称以及投入的数值（20分）见下表"
   ]
  },
  {
   "cell_type": "code",
   "execution_count": 55,
   "metadata": {},
   "outputs": [
    {
     "data": {
      "text/plain": [
       "GICS Sector\n",
       "Consumer Discretionary         1.860178e+09\n",
       "Consumer Staples               8.557000e+08\n",
       "Energy                         0.000000e+00\n",
       "Financials                     0.000000e+00\n",
       "Health Care                    6.334725e+10\n",
       "Industrials                    4.219500e+09\n",
       "Information Technology         1.986645e+11\n",
       "Materials                      1.073121e+10\n",
       "Real Estate                    0.000000e+00\n",
       "Telecommunications Services    0.000000e+00\n",
       "Utilities                      0.000000e+00\n",
       "Name: Research and Development, dtype: float64"
      ]
     },
     "execution_count": 55,
     "metadata": {},
     "output_type": "execute_result"
    }
   ],
   "source": [
    "\n",
    "d6 = pd.merge(df, df2, left_on='Ticker Symbol', right_on='Ticker symbol')\n",
    "grouped2 = d6['Research and Development'][d6['For Year'].between(2013,2016)].groupby(d6['GICS Sector'])\n",
    "g2 = grouped2.sum()\n",
    "g2\n",
    "\n",
    "#每个sector在2013-2016年累计Research&Development的总投入"
   ]
  },
  {
   "cell_type": "code",
   "execution_count": 54,
   "metadata": {},
   "outputs": [
    {
     "data": {
      "text/html": [
       "<div>\n",
       "<style scoped>\n",
       "    .dataframe tbody tr th:only-of-type {\n",
       "        vertical-align: middle;\n",
       "    }\n",
       "\n",
       "    .dataframe tbody tr th {\n",
       "        vertical-align: top;\n",
       "    }\n",
       "\n",
       "    .dataframe thead th {\n",
       "        text-align: right;\n",
       "    }\n",
       "</style>\n",
       "<table border=\"1\" class=\"dataframe\">\n",
       "  <thead>\n",
       "    <tr style=\"text-align: right;\">\n",
       "      <th></th>\n",
       "      <th>GICS Sector</th>\n",
       "      <th>sum</th>\n",
       "    </tr>\n",
       "  </thead>\n",
       "  <tbody>\n",
       "    <tr>\n",
       "      <td>6</td>\n",
       "      <td>Information Technology</td>\n",
       "      <td>1.986645e+11</td>\n",
       "    </tr>\n",
       "    <tr>\n",
       "      <td>4</td>\n",
       "      <td>Health Care</td>\n",
       "      <td>6.334725e+10</td>\n",
       "    </tr>\n",
       "    <tr>\n",
       "      <td>7</td>\n",
       "      <td>Materials</td>\n",
       "      <td>1.073121e+10</td>\n",
       "    </tr>\n",
       "  </tbody>\n",
       "</table>\n",
       "</div>"
      ],
      "text/plain": [
       "              GICS Sector           sum\n",
       "6  Information Technology  1.986645e+11\n",
       "4             Health Care  6.334725e+10\n",
       "7               Materials  1.073121e+10"
      ]
     },
     "execution_count": 54,
     "metadata": {},
     "output_type": "execute_result"
    }
   ],
   "source": [
    "dict_d6d = {'GICS Sector': g2.index, 'sum':g2.values}\n",
    "d6d = pd.DataFrame(dict_d6d)\n",
    "d6d.sort_values('sum',ascending=False).head(n=3)\n",
    "\n",
    "#下表为在2013-2016年累计Research&development投入最大的3家公司的名称"
   ]
  },
  {
   "cell_type": "markdown",
   "metadata": {},
   "source": [
    "# 4. 现在让我们来看看更加复杂的数据\n",
    "\n",
    "请导入price.csv，然后结合你的聪明才智回答以下问题（附加题，40分）\n",
    "\n",
    "假设你是某基金公司的老板，现在对于每只股票，你都专门安排了一位负责它的交易员。公司规定每一位交易员手中的资金要么全部买入要么全部卖出（空仓，转化为现金）。假设2016年每一位交易员手中都有10000美元，假设他们都能够看到2016年全年的数据，假设他们都能抓住每一次机会，那么请问2016年底时，赚钱最多的股票是哪一只，赚了多少钱？"
   ]
  },
  {
   "cell_type": "code",
   "execution_count": null,
   "metadata": {},
   "outputs": [],
   "source": []
  }
 ],
 "metadata": {
  "kernelspec": {
   "display_name": "Python 3",
   "language": "python",
   "name": "python3"
  },
  "language_info": {
   "codemirror_mode": {
    "name": "ipython",
    "version": 3
   },
   "file_extension": ".py",
   "mimetype": "text/x-python",
   "name": "python",
   "nbconvert_exporter": "python",
   "pygments_lexer": "ipython3",
   "version": "3.7.4"
  }
 },
 "nbformat": 4,
 "nbformat_minor": 2
}
