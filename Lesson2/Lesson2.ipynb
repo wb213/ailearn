{
 "cells": [
  {
   "cell_type": "code",
   "execution_count": 3,
   "metadata": {},
   "outputs": [
    {
     "name": "stdout",
     "output_type": "stream",
     "text": [
      "result: 2\n"
     ]
    }
   ],
   "source": [
    "num = 2\n",
    "print('result:', num)"
   ]
  },
  {
   "cell_type": "code",
   "execution_count": 4,
   "metadata": {},
   "outputs": [
    {
     "name": "stdout",
     "output_type": "stream",
     "text": [
      "张一到！\n",
      "张二到！\n",
      "张三到！\n",
      "张四到！\n",
      "张五到！\n"
     ]
    }
   ],
   "source": [
    "student1 = '张一'\n",
    "student2 = '张二'\n",
    "student3 = '张三'\n",
    "student4 = '张四'\n",
    "student5 = '张五'\n",
    "\n",
    "print(student1+'到！')\n",
    "print(student2+'到！')\n",
    "print(student3+'到！')\n",
    "print(student4+'到！')\n",
    "print(student5+'到！')"
   ]
  },
  {
   "cell_type": "markdown",
   "metadata": {},
   "source": [
    "列表的语法\n",
    "``` \n",
    "[元素1, 元素2]\n",
    "```"
   ]
  },
  {
   "cell_type": "code",
   "execution_count": 5,
   "metadata": {},
   "outputs": [
    {
     "data": {
      "text/plain": [
       "['张一', '张二', '张三', '张四', '张五']"
      ]
     },
     "execution_count": 5,
     "metadata": {},
     "output_type": "execute_result"
    }
   ],
   "source": [
    "['张一','张二','张三','张四','张五']"
   ]
  },
  {
   "cell_type": "code",
   "execution_count": 6,
   "metadata": {},
   "outputs": [
    {
     "data": {
      "text/plain": [
       "['string', 1, 2.5]"
      ]
     },
     "execution_count": 6,
     "metadata": {},
     "output_type": "execute_result"
    }
   ],
   "source": [
    "['string', 1, 2.5]"
   ]
  },
  {
   "cell_type": "code",
   "execution_count": 7,
   "metadata": {},
   "outputs": [
    {
     "name": "stdout",
     "output_type": "stream",
     "text": [
      "['张一', '张二', '张三', '张四', '张五']\n"
     ]
    }
   ],
   "source": [
    "class_1 = ['张一','张二','张三','张四','张五']\n",
    "\n",
    "print(class_1)"
   ]
  },
  {
   "cell_type": "code",
   "execution_count": 9,
   "metadata": {},
   "outputs": [
    {
     "name": "stdout",
     "output_type": "stream",
     "text": [
      "张一到\n",
      "张二到\n",
      "张三到\n",
      "张四到\n",
      "张五到\n"
     ]
    }
   ],
   "source": [
    "class_1[0] # 索引(数组的下标,index) 是0开始的 \n",
    "\n",
    "class_1 = ['张一','张二','张三','张四','张五']\n",
    "\n",
    "print(class_1[0]+'到')\n",
    "print(class_1[1]+'到')\n",
    "print(class_1[2]+'到')\n",
    "print(class_1[3]+'到')\n",
    "print(class_1[4]+'到')"
   ]
  },
  {
   "cell_type": "markdown",
   "metadata": {},
   "source": [
    "列表的切片"
   ]
  },
  {
   "cell_type": "code",
   "execution_count": null,
   "metadata": {},
   "outputs": [],
   "source": [
    "class_1[3:5]\n",
    "\n",
    "# class_1[strat_index: end_index (not include)]"
   ]
  },
  {
   "cell_type": "code",
   "execution_count": 11,
   "metadata": {},
   "outputs": [
    {
     "name": "stdout",
     "output_type": "stream",
     "text": [
      "input start student3\n",
      "nums:5\n",
      "['张四', '张五']\n"
     ]
    }
   ],
   "source": [
    "start = int(input('input start student'))\n",
    "end = int(input('end:'))\n",
    "\n",
    "print(class_1[start:end])"
   ]
  },
  {
   "cell_type": "code",
   "execution_count": 18,
   "metadata": {},
   "outputs": [
    {
     "name": "stdout",
     "output_type": "stream",
     "text": [
      "张五\n",
      "张四\n",
      "张三\n",
      "张二\n",
      "张一\n"
     ]
    }
   ],
   "source": [
    "print(class_1[-1])\n",
    "print(class_1[-2])\n",
    "print(class_1[-3])\n",
    "print(class_1[-4])\n",
    "print(class_1[-5])"
   ]
  },
  {
   "cell_type": "code",
   "execution_count": 22,
   "metadata": {},
   "outputs": [
    {
     "name": "stdout",
     "output_type": "stream",
     "text": [
      "['张四', '张五']\n"
     ]
    }
   ],
   "source": [
    "print(class_1[-2:])\n",
    "\n",
    "# list  length ?"
   ]
  },
  {
   "cell_type": "code",
   "execution_count": 23,
   "metadata": {},
   "outputs": [
    {
     "data": {
      "text/plain": [
       "5"
      ]
     },
     "execution_count": 23,
     "metadata": {},
     "output_type": "execute_result"
    }
   ],
   "source": [
    "len(class_1)"
   ]
  },
  {
   "cell_type": "code",
   "execution_count": 30,
   "metadata": {},
   "outputs": [
    {
     "name": "stdout",
     "output_type": "stream",
     "text": [
      "['张一', '张二', '张三', '张四', '张五', '张留']\n"
     ]
    }
   ],
   "source": [
    "class_1 = ['张一','张二','张三','张四','张五']\n",
    "class_1.append('张留')\n",
    "\n",
    "print(class_1)"
   ]
  },
  {
   "cell_type": "code",
   "execution_count": 31,
   "metadata": {},
   "outputs": [
    {
     "name": "stdout",
     "output_type": "stream",
     "text": [
      "['张一', '张二', '张三', '张四', '张五', '张六']\n"
     ]
    }
   ],
   "source": [
    "class_1[-1] = '张六'\n",
    "\n",
    "print(class_1)"
   ]
  },
  {
   "cell_type": "code",
   "execution_count": 33,
   "metadata": {},
   "outputs": [
    {
     "ename": "ValueError",
     "evalue": "list.remove(x): x not in list",
     "output_type": "error",
     "traceback": [
      "\u001b[0;31m---------------------------------------------------------------------------\u001b[0m",
      "\u001b[0;31mValueError\u001b[0m                                Traceback (most recent call last)",
      "\u001b[0;32m<ipython-input-33-07e4970ee97f>\u001b[0m in \u001b[0;36m<module>\u001b[0;34m\u001b[0m\n\u001b[0;32m----> 1\u001b[0;31m \u001b[0mclass_1\u001b[0m\u001b[0;34m.\u001b[0m\u001b[0mremove\u001b[0m\u001b[0;34m(\u001b[0m\u001b[0;34m'张三'\u001b[0m\u001b[0;34m)\u001b[0m\u001b[0;34m\u001b[0m\u001b[0;34m\u001b[0m\u001b[0m\n\u001b[0m\u001b[1;32m      2\u001b[0m \u001b[0;34m\u001b[0m\u001b[0m\n\u001b[1;32m      3\u001b[0m \u001b[0mprint\u001b[0m\u001b[0;34m(\u001b[0m\u001b[0mclass_1\u001b[0m\u001b[0;34m)\u001b[0m\u001b[0;34m\u001b[0m\u001b[0;34m\u001b[0m\u001b[0m\n",
      "\u001b[0;31mValueError\u001b[0m: list.remove(x): x not in list"
     ]
    }
   ],
   "source": [
    "class_1.remove('张三')\n",
    "\n",
    "print(class_1)"
   ]
  },
  {
   "cell_type": "code",
   "execution_count": 34,
   "metadata": {},
   "outputs": [
    {
     "name": "stdout",
     "output_type": "stream",
     "text": [
      "['张一', '张二', '张四', '张五', '张六']\n"
     ]
    }
   ],
   "source": [
    "print(class_1)"
   ]
  },
  {
   "cell_type": "code",
   "execution_count": 38,
   "metadata": {},
   "outputs": [
    {
     "name": "stdout",
     "output_type": "stream",
     "text": [
      "['张一', '张三', '张四', '张五'] None\n"
     ]
    }
   ],
   "source": [
    "class_1 = ['张一','张二','张三','张四','张五']\n",
    "\n",
    "student = class_1.remove('张二') # 弹出\n",
    "\n",
    "print(class_1, student)"
   ]
  },
  {
   "cell_type": "code",
   "execution_count": 43,
   "metadata": {},
   "outputs": [
    {
     "name": "stdout",
     "output_type": "stream",
     "text": [
      "[1, 3, 4, 5, 6]\n"
     ]
    }
   ],
   "source": [
    "\n",
    "l = [1,2,3,4,5]\n",
    "\n",
    "l.append(6)\n",
    "\n",
    "l.remove(2)\n",
    "\n",
    "print(l)\n"
   ]
  },
  {
   "cell_type": "markdown",
   "metadata": {},
   "source": [
    "- 列表 [   ,  (英文)\n",
    "- 列表的使用  单值  连续多值\n",
    "- 添加  apppend\n",
    "- 删除 remove(元素) pop(index)\n",
    "- 列表修改 列表[index]= 元素\n",
    "\n"
   ]
  },
  {
   "cell_type": "code",
   "execution_count": 45,
   "metadata": {},
   "outputs": [
    {
     "data": {
      "text/plain": [
       "[1, 2, 3, 4, 5]"
      ]
     },
     "execution_count": 45,
     "metadata": {},
     "output_type": "execute_result"
    }
   ],
   "source": [
    "'string1' + 'string2'\n",
    "\n",
    "[1,2,3] + [4,5]"
   ]
  },
  {
   "cell_type": "markdown",
   "metadata": {},
   "source": [
    "列表的反转 切片   \n",
    "列表的排序 函数  \n",
    "列表的解析"
   ]
  },
  {
   "cell_type": "code",
   "execution_count": 47,
   "metadata": {},
   "outputs": [
    {
     "name": "stdout",
     "output_type": "stream",
     "text": [
      "['张一', '张二', '张三', '张四', '张五', '张六', '张六']\n"
     ]
    }
   ],
   "source": [
    "class_1 = ['张一', '张二', '张三', '张四', '张五', '张六']\n",
    "\n",
    "class_1.append('张六')\n",
    "\n",
    "print(class_1)"
   ]
  },
  {
   "cell_type": "markdown",
   "metadata": {},
   "source": [
    "元组  \n",
    "创建完成之后不能修改"
   ]
  },
  {
   "cell_type": "code",
   "execution_count": 49,
   "metadata": {},
   "outputs": [],
   "source": [
    "class_2 = ('张一', '张二', '张三', '张四', '张五', '张六')"
   ]
  },
  {
   "cell_type": "code",
   "execution_count": 50,
   "metadata": {},
   "outputs": [
    {
     "ename": "AttributeError",
     "evalue": "'tuple' object has no attribute 'append'",
     "output_type": "error",
     "traceback": [
      "\u001b[0;31m---------------------------------------------------------------------------\u001b[0m",
      "\u001b[0;31mAttributeError\u001b[0m                            Traceback (most recent call last)",
      "\u001b[0;32m<ipython-input-50-2d836360fc6b>\u001b[0m in \u001b[0;36m<module>\u001b[0;34m\u001b[0m\n\u001b[0;32m----> 1\u001b[0;31m \u001b[0mclass_2\u001b[0m\u001b[0;34m.\u001b[0m\u001b[0mappend\u001b[0m\u001b[0;34m(\u001b[0m\u001b[0;34m'Ivan'\u001b[0m\u001b[0;34m)\u001b[0m\u001b[0;34m\u001b[0m\u001b[0;34m\u001b[0m\u001b[0m\n\u001b[0m",
      "\u001b[0;31mAttributeError\u001b[0m: 'tuple' object has no attribute 'append'"
     ]
    }
   ],
   "source": [
    "class_2.append('Ivan')"
   ]
  },
  {
   "cell_type": "code",
   "execution_count": 51,
   "metadata": {},
   "outputs": [
    {
     "ename": "TypeError",
     "evalue": "'tuple' object does not support item assignment",
     "output_type": "error",
     "traceback": [
      "\u001b[0;31m---------------------------------------------------------------------------\u001b[0m",
      "\u001b[0;31mTypeError\u001b[0m                                 Traceback (most recent call last)",
      "\u001b[0;32m<ipython-input-51-245a39d50708>\u001b[0m in \u001b[0;36m<module>\u001b[0;34m\u001b[0m\n\u001b[0;32m----> 1\u001b[0;31m \u001b[0mclass_2\u001b[0m\u001b[0;34m[\u001b[0m\u001b[0;36m0\u001b[0m\u001b[0;34m]\u001b[0m \u001b[0;34m=\u001b[0m \u001b[0;34m'Ivan'\u001b[0m\u001b[0;34m\u001b[0m\u001b[0;34m\u001b[0m\u001b[0m\n\u001b[0m",
      "\u001b[0;31mTypeError\u001b[0m: 'tuple' object does not support item assignment"
     ]
    }
   ],
   "source": [
    "class_2[0] = 'Ivan'"
   ]
  },
  {
   "cell_type": "code",
   "execution_count": 57,
   "metadata": {},
   "outputs": [
    {
     "name": "stdout",
     "output_type": "stream",
     "text": [
      "('周一', '周二', '周三', '周四', '周五', '周六', '周日', '周日')\n"
     ]
    }
   ],
   "source": [
    "days = ('周一','周二','周三','周四','周五','周六','周日','周日')\n",
    "print(days)"
   ]
  },
  {
   "cell_type": "code",
   "execution_count": 54,
   "metadata": {},
   "outputs": [
    {
     "name": "stdout",
     "output_type": "stream",
     "text": [
      "周一\n"
     ]
    }
   ],
   "source": [
    "days = ('周一','周二','周三','周四','周五','周六','周日')\n",
    "print(days[0])"
   ]
  },
  {
   "cell_type": "code",
   "execution_count": 58,
   "metadata": {},
   "outputs": [
    {
     "name": "stdout",
     "output_type": "stream",
     "text": [
      "[('周一', '周二', '周三', '周四', '周五', '周六', '周日', '周日')]\n"
     ]
    }
   ],
   "source": [
    "l = list()\n",
    "l.append(days)\n",
    "\n",
    "print(l)"
   ]
  },
  {
   "cell_type": "markdown",
   "metadata": {},
   "source": [
    "集合"
   ]
  },
  {
   "cell_type": "code",
   "execution_count": 61,
   "metadata": {},
   "outputs": [
    {
     "name": "stdout",
     "output_type": "stream",
     "text": [
      "{'张六', '张四', '张一', '张三', '张五', '张二'}\n"
     ]
    }
   ],
   "source": [
    "class_1 = ['张一', '张二', '张三', '张四', '张五', '张六', '张六']\n",
    "class_2 = ('张一', '张二', '张三', '张四', '张五', '张六')\n",
    "\n",
    "class_3 = {'张一', '张二', '张三', '张四', '张五', '张六', '张六'}\n",
    "print(class_3)"
   ]
  },
  {
   "cell_type": "markdown",
   "metadata": {},
   "source": [
    "去重  \n",
    "不能够放重复性的元素"
   ]
  },
  {
   "cell_type": "markdown",
   "metadata": {},
   "source": [
    "add 和 append方法有什么区别   \n",
    "set     list"
   ]
  },
  {
   "cell_type": "code",
   "execution_count": 66,
   "metadata": {},
   "outputs": [
    {
     "name": "stdout",
     "output_type": "stream",
     "text": [
      "{'死侍', '哪吒', '哆啦A梦'}\n"
     ]
    }
   ],
   "source": [
    "user_nos = set()\n",
    "\n",
    "user_nos.add('哆啦A梦')\n",
    "user_nos.add('哪吒')\n",
    "user_nos.add('死侍')\n",
    "user_nos.add('死侍')\n",
    "\n",
    "print(user_nos)"
   ]
  },
  {
   "cell_type": "code",
   "execution_count": 68,
   "metadata": {},
   "outputs": [
    {
     "name": "stdout",
     "output_type": "stream",
     "text": [
      "所有人都掌握了吗? False\n"
     ]
    }
   ],
   "source": [
    "flags = [1,1,1,1,1,2,1,2,1,1,1,1]\n",
    "\n",
    "print('所有人都掌握了吗?', len(set(flags)) == 1)"
   ]
  },
  {
   "cell_type": "code",
   "execution_count": 71,
   "metadata": {},
   "outputs": [
    {
     "name": "stdout",
     "output_type": "stream",
     "text": [
      "文章1的阅读量： 8\n",
      "文章2的阅读量： 9\n",
      "文章1的阅读人数： 3 分别是： {'死侍', '哪吒', '哆啦A梦'}\n",
      "文章2的阅读人数： 5 分别是： {'钢铁侠', '漩涡鸣人', '罗小黑', '哪吒', '死侍'}\n"
     ]
    }
   ],
   "source": [
    "artic1_clicked = ['哆啦A梦','哪吒','死侍','死侍','死侍','死侍','死侍','哪吒']\n",
    "artic2_clicked = ['罗小黑','哪吒','死侍','漩涡鸣人','死侍','钢铁侠','死侍','哪吒','罗小黑']\n",
    "\n",
    "\n",
    "\n",
    "print('文章1的阅读量：', len(artic1_clicked))\n",
    "print('文章2的阅读量：', len(artic2_clicked))\n",
    "\n",
    "artic1_readers = set(artic1_clicked)\n",
    "artic2_readers = set(artic2_clicked)\n",
    "\n",
    "print('文章1的阅读人数：', len(artic1_readers), '分别是：', artic1_readers)\n",
    "print('文章2的阅读人数：', len(artic2_readers), '分别是：', artic2_readers)"
   ]
  },
  {
   "cell_type": "markdown",
   "metadata": {},
   "source": [
    "交集$\\cap$ 并集$\\cup$ 补集\n"
   ]
  },
  {
   "cell_type": "code",
   "execution_count": 72,
   "metadata": {},
   "outputs": [
    {
     "data": {
      "text/plain": [
       "{'哆啦A梦', '哪吒', '死侍', '漩涡鸣人', '罗小黑', '钢铁侠'}"
      ]
     },
     "execution_count": 72,
     "metadata": {},
     "output_type": "execute_result"
    }
   ],
   "source": [
    "artic1_readers | artic2_readers"
   ]
  },
  {
   "cell_type": "code",
   "execution_count": 73,
   "metadata": {},
   "outputs": [
    {
     "data": {
      "text/plain": [
       "{'哪吒', '死侍'}"
      ]
     },
     "execution_count": 73,
     "metadata": {},
     "output_type": "execute_result"
    }
   ],
   "source": [
    "artic1_readers & artic2_readers"
   ]
  },
  {
   "cell_type": "code",
   "execution_count": 75,
   "metadata": {},
   "outputs": [
    {
     "data": {
      "text/plain": [
       "{'哆啦A梦'}"
      ]
     },
     "execution_count": 75,
     "metadata": {},
     "output_type": "execute_result"
    }
   ],
   "source": [
    "artic1_readers - artic2_readers"
   ]
  },
  {
   "cell_type": "code",
   "execution_count": 76,
   "metadata": {},
   "outputs": [
    {
     "data": {
      "text/plain": [
       "{'漩涡鸣人', '罗小黑', '钢铁侠'}"
      ]
     },
     "execution_count": 76,
     "metadata": {},
     "output_type": "execute_result"
    }
   ],
   "source": [
    "artic2_readers - artic1_readers"
   ]
  },
  {
   "cell_type": "code",
   "execution_count": 78,
   "metadata": {},
   "outputs": [
    {
     "data": {
      "text/plain": [
       "False"
      ]
     },
     "execution_count": 78,
     "metadata": {},
     "output_type": "execute_result"
    }
   ],
   "source": [
    "'罗小黑' not in artic2_readers"
   ]
  },
  {
   "cell_type": "markdown",
   "metadata": {},
   "source": [
    "元素 in  / not in set"
   ]
  },
  {
   "cell_type": "code",
   "execution_count": 79,
   "metadata": {},
   "outputs": [
    {
     "name": "stdout",
     "output_type": "stream",
     "text": [
      "{'李四', '王五', '张三'}\n"
     ]
    }
   ],
   "source": [
    "pearsons = {'张三', '李四'}\n",
    "\n",
    "pearsons.add('张三')\n",
    "\n",
    "pearsons.update(['张三', '王五'])\n",
    "\n",
    "print(pearsons)"
   ]
  },
  {
   "cell_type": "code",
   "execution_count": 80,
   "metadata": {},
   "outputs": [
    {
     "name": "stdout",
     "output_type": "stream",
     "text": [
      "{'李四', '王五'}\n"
     ]
    }
   ],
   "source": [
    "pearsons.remove('张三')\n",
    "\n",
    "print(pearsons)"
   ]
  },
  {
   "cell_type": "markdown",
   "metadata": {},
   "source": [
    "去重\n",
    "\n",
    "交集 并集 \n",
    "\n",
    "(not) in\n",
    "\n",
    "- 交集`&` 在两个集合中都存在的元素\n",
    "- 并集`|` 将两个集合元素合并在一起\n",
    "- 差集 '-' 属于前者而不属于后者的元素"
   ]
  },
  {
   "cell_type": "markdown",
   "metadata": {},
   "source": [
    "容器 / 序列对象  \n",
    "\n",
    "字典(dict)"
   ]
  },
  {
   "cell_type": "code",
   "execution_count": 82,
   "metadata": {},
   "outputs": [],
   "source": [
    "artic1_clicked = ['哆啦A梦','哪吒','死侍','死侍','死侍','死侍','死侍','哪吒']\n",
    "artic2_clicked = ['罗小黑','哪吒','死侍','漩涡鸣人','死侍','钢铁侠','死侍','哪吒','罗小黑']\n",
    "artic3_clicked = ['死侍','漩涡鸣人','死侍','钢铁侠','小丑']\n",
    "\n",
    "user1 = 1\n",
    "nezha = 2"
   ]
  },
  {
   "cell_type": "markdown",
   "metadata": {},
   "source": [
    "字典语法\n",
    "``` python\n",
    "\n",
    "user_read = {'哪吒': 2, '死侍': 3}\n",
    "```\n",
    "\n",
    "**键值对 key value**"
   ]
  },
  {
   "cell_type": "code",
   "execution_count": 93,
   "metadata": {},
   "outputs": [
    {
     "name": "stdout",
     "output_type": "stream",
     "text": [
      "哪吒\n",
      "哪吒\n"
     ]
    },
    {
     "ename": "KeyError",
     "evalue": "9",
     "output_type": "error",
     "traceback": [
      "\u001b[0;31m---------------------------------------------------------------------------\u001b[0m",
      "\u001b[0;31mKeyError\u001b[0m                                  Traceback (most recent call last)",
      "\u001b[0;32m<ipython-input-93-d207e72caa71>\u001b[0m in \u001b[0;36m<module>\u001b[0;34m\u001b[0m\n\u001b[1;32m     18\u001b[0m \u001b[0mprint\u001b[0m\u001b[0;34m(\u001b[0m\u001b[0martic1_clicked\u001b[0m\u001b[0;34m[\u001b[0m\u001b[0mindex\u001b[0m\u001b[0;34m]\u001b[0m\u001b[0;34m)\u001b[0m\u001b[0;34m\u001b[0m\u001b[0;34m\u001b[0m\u001b[0m\n\u001b[1;32m     19\u001b[0m \u001b[0;34m\u001b[0m\u001b[0m\n\u001b[0;32m---> 20\u001b[0;31m \u001b[0mprint\u001b[0m\u001b[0;34m(\u001b[0m\u001b[0mdict_artic1_clicked\u001b[0m\u001b[0;34m[\u001b[0m\u001b[0;36m9\u001b[0m\u001b[0;34m]\u001b[0m\u001b[0;34m)\u001b[0m\u001b[0;34m\u001b[0m\u001b[0;34m\u001b[0m\u001b[0m\n\u001b[0m",
      "\u001b[0;31mKeyError\u001b[0m: 9"
     ]
    }
   ],
   "source": [
    "artic1_clicked = ['哆啦A梦','哪吒','死侍','死侍','死侍','死侍','死侍','哪吒']\n",
    "\n",
    "# 使用dict 来实现 list\n",
    "dict_artic1_clicked = {\n",
    "    0:'哆啦A梦',\n",
    "    1:'哪吒',\n",
    "    2:'死侍',\n",
    "    3:'死侍',\n",
    "    4:'死侍',\n",
    "    5:'死侍',\n",
    "    6:'死侍',\n",
    "    7:'哪吒'\n",
    "#   key:value\n",
    "}\n",
    "\n",
    "index = 7\n",
    "print(dict_artic1_clicked[index])\n",
    "print(artic1_clicked[index])"
   ]
  },
  {
   "cell_type": "markdown",
   "metadata": {},
   "source": [
    "key 是 唯一的   ID"
   ]
  },
  {
   "cell_type": "code",
   "execution_count": 98,
   "metadata": {},
   "outputs": [
    {
     "name": "stdout",
     "output_type": "stream",
     "text": [
      "{'0': '哆啦A梦', 1: '哪吒', '2': '死侍', '3': '死侍', 4: '死侍', '5': '死侍', '6': '死侍', '7': '死侍', '8': '2222'}\n"
     ]
    }
   ],
   "source": [
    "dict_artic1_clicked = {\n",
    "    '0':'哆啦A梦',\n",
    "    1:'哪吒',\n",
    "    '2':'死侍',\n",
    "    '3':'死侍',\n",
    "    4:'死侍',\n",
    "    '5':'死侍',\n",
    "    '6':'死侍',\n",
    "    '7':'死侍',\n",
    "    '8':'哪吒',\n",
    "    '8':'2222'\n",
    "}\n",
    "\n",
    "print(dict_artic1_clicked)"
   ]
  },
  {
   "cell_type": "code",
   "execution_count": 99,
   "metadata": {},
   "outputs": [
    {
     "name": "stdout",
     "output_type": "stream",
     "text": [
      "李靖\n"
     ]
    }
   ],
   "source": [
    "dict_artic1_clicked['8'] = '李靖'\n",
    "print(dict_artic1_clicked['8'])"
   ]
  },
  {
   "cell_type": "code",
   "execution_count": 102,
   "metadata": {},
   "outputs": [
    {
     "name": "stdout",
     "output_type": "stream",
     "text": [
      "{1001: '哪吒', 1002: '死侍', 1003: '死侍_平行空间'}\n"
     ]
    }
   ],
   "source": [
    "pearson = {1001: '哪吒', 1002:'死侍', 1003:'死侍_平行空间'}\n",
    "\n",
    "print(pearson)"
   ]
  },
  {
   "cell_type": "code",
   "execution_count": 104,
   "metadata": {},
   "outputs": [
    {
     "name": "stdout",
     "output_type": "stream",
     "text": [
      "{'哆啦A梦': 1}\n"
     ]
    }
   ],
   "source": [
    "user_read = dict()\n",
    "\n",
    "user_read['哆啦A梦'] = 1\n",
    "print(user_read)"
   ]
  },
  {
   "cell_type": "code",
   "execution_count": 105,
   "metadata": {},
   "outputs": [
    {
     "name": "stdout",
     "output_type": "stream",
     "text": [
      "{'哆啦A梦': 1, '死侍': 1}\n"
     ]
    }
   ],
   "source": [
    "user_read['死侍'] = 1\n",
    "print(user_read)"
   ]
  },
  {
   "cell_type": "code",
   "execution_count": 106,
   "metadata": {},
   "outputs": [],
   "source": [
    "user_read['死侍'] = 4"
   ]
  },
  {
   "cell_type": "code",
   "execution_count": 109,
   "metadata": {},
   "outputs": [
    {
     "name": "stdout",
     "output_type": "stream",
     "text": [
      "{'哆啦A梦': 1, '死侍': 7}\n"
     ]
    },
    {
     "data": {
      "text/plain": [
       "False"
      ]
     },
     "execution_count": 109,
     "metadata": {},
     "output_type": "execute_result"
    }
   ],
   "source": [
    "user_read['死侍'] = user_read['死侍']+1\n",
    "print(user_read)\n",
    "\n",
    "'哪吒' in user_read"
   ]
  },
  {
   "cell_type": "markdown",
   "metadata": {},
   "source": [
    "in  list  \n",
    "in set\n",
    "in tuple \n",
    "in dict \n",
    "in dict.keys()"
   ]
  },
  {
   "cell_type": "markdown",
   "metadata": {},
   "source": [
    "如何判断集合里存在重复元素  \n",
    "集合set 一定不存在重复元素的！  \n",
    "\n",
    "key 就是dict 的索引"
   ]
  },
  {
   "cell_type": "markdown",
   "metadata": {},
   "source": [
    "`if` 的语法\n",
    "``` python\n",
    "if 条件 :\n",
    "    # some code\n",
    "else:\n",
    "    # other code\n",
    "```"
   ]
  },
  {
   "cell_type": "code",
   "execution_count": 116,
   "metadata": {},
   "outputs": [
    {
     "name": "stdout",
     "output_type": "stream",
     "text": [
      "not enter!\n",
      "end\n"
     ]
    }
   ],
   "source": [
    "# 加入\n",
    "\n",
    "age = 16\n",
    "\n",
    "# 假如 条件(为真):\n",
    "# 四个空格 一些代码\n",
    "# else: #条件为假\n",
    "# 四个空格 一些代码\n",
    "\n",
    "# 代码缩进  要统一  空格  tab(实际还是空格)\n",
    "# \n",
    "\n",
    "if age >= 18:\n",
    "    # 条件为真执行的代码块\n",
    "    print('adult!')\n",
    "    print('please enter!')\n",
    "else:\n",
    "    #条件为假执行的代码块\n",
    "    print('not enter!')\n",
    "\n",
    "print('end')"
   ]
  },
  {
   "cell_type": "code",
   "execution_count": 117,
   "metadata": {},
   "outputs": [
    {
     "name": "stdout",
     "output_type": "stream",
     "text": [
      "及格\n"
     ]
    }
   ],
   "source": [
    "score = 71\n",
    "\n",
    "# 90 优秀\n",
    "# 80 -90 良好\n",
    "# 60 - 80 及格\n",
    "#\n",
    "\n",
    "if score>=90:\n",
    "    print('优秀')\n",
    "else:\n",
    "    # 分数已经小于90\n",
    "    if score >= 80:\n",
    "        print('良好')\n",
    "    else:\n",
    "        #小于80了\n",
    "        if score>=60:\n",
    "            print('及格')\n",
    "        else:\n",
    "            # 小于60\n",
    "            print('不及格')"
   ]
  },
  {
   "cell_type": "code",
   "execution_count": 120,
   "metadata": {},
   "outputs": [
    {
     "name": "stdout",
     "output_type": "stream",
     "text": [
      "不及格\n"
     ]
    }
   ],
   "source": [
    "score = 12\n",
    "if score>=90:\n",
    "    print('优秀')\n",
    "elif score>=80: # 这一段不需要缩进\n",
    "    print('良好')\n",
    "elif score>=60:\n",
    "    print('及格')\n",
    "else:\n",
    "    print('不及格')"
   ]
  },
  {
   "cell_type": "code",
   "execution_count": 121,
   "metadata": {},
   "outputs": [
    {
     "name": "stdout",
     "output_type": "stream",
     "text": [
      "['哆啦A梦', '哪吒', '死侍', '死侍', '死侍', '死侍', '死侍', '哪吒']\n",
      "{'死侍', '哪吒', '哆啦A梦'}\n",
      "死侍\n",
      "死侍 已加入到list中， ['哆啦A梦', '哪吒', '死侍', '死侍', '死侍', '死侍', '死侍', '哪吒', '死侍']\n",
      "死侍 并不是第一次阅读!\n"
     ]
    }
   ],
   "source": [
    "# 一个新的点击历史\n",
    "print(artic1_clicked)\n",
    "print(artic1_readers)\n",
    "\n",
    "new_click = input()\n",
    "\n",
    "artic1_clicked.append(new_click)\n",
    "print(new_click, '已加入到list中，', artic1_clicked)\n",
    "if new_click in artic1_readers:\n",
    "    print(new_click, '并不是第一次阅读!')\n",
    "else:\n",
    "    print(new_click, '是第一次阅读!')"
   ]
  },
  {
   "cell_type": "code",
   "execution_count": 127,
   "metadata": {},
   "outputs": [
    {
     "name": "stdout",
     "output_type": "stream",
     "text": [
      "当前点击历史： ['罗小黑']\n",
      "当前所有用户： {'罗小黑'}\n",
      "当前用户点击次数： {'罗小黑': 1}\n",
      "罗小黑\n",
      "罗小黑 不是第一次阅读\n",
      "当前点击历史： ['罗小黑', '罗小黑']\n",
      "当前所有用户： {'罗小黑'}\n",
      "当前用户点击次数： {'罗小黑': 2}\n"
     ]
    }
   ],
   "source": [
    "# 来一个空的文件点击历史\n",
    "# 然后实现一个阅读人数和阅读量的实现\n",
    "his = ['罗小黑'] # his = list()\n",
    "all_user = {'罗小黑'}\n",
    "user_read = {'罗小黑':1}\n",
    "\n",
    "print('当前点击历史：', his)\n",
    "print('当前所有用户：', all_user)\n",
    "print('当前用户点击次数：', user_read)\n",
    "\n",
    "reader = input()\n",
    "his.append(reader)\n",
    "if reader in all_user:\n",
    "    print(reader,'不是第一次阅读')\n",
    "    times = user_read[reader]\n",
    "    user_read[reader] = times + 1\n",
    "else:\n",
    "    print(reader, '是第一次阅读')\n",
    "    all_user.add(reader)\n",
    "    user_read[reader] = 1\n",
    "    \n",
    "print('当前点击历史：', his)\n",
    "print('当前所有用户：', all_user)\n",
    "print('当前用户点击次数：', user_read)"
   ]
  },
  {
   "cell_type": "markdown",
   "metadata": {},
   "source": [
    "利用if 判断一个年份是否为闰年 课堂作业"
   ]
  },
  {
   "cell_type": "markdown",
   "metadata": {},
   "source": [
    "for 循环\n",
    "\n",
    "for each  \n",
    "\n",
    "## for 循环\n",
    "语法：\n",
    "``` python\n",
    "for 变量 in 列表 : # 叫号\n",
    "    pass          # 当前就诊的人 左边有四个空格的缩进\n",
    "```\n",
    "将每个格子里的东西都拿出来"
   ]
  },
  {
   "cell_type": "code",
   "execution_count": 132,
   "metadata": {},
   "outputs": [
    {
     "name": "stdout",
     "output_type": "stream",
     "text": [
      "张一  到！\n",
      "张二  到！\n",
      "张三  到！\n",
      "张四  到！\n",
      "张五  到！\n",
      "张六  到！\n",
      "张六  到！\n",
      "end\n"
     ]
    }
   ],
   "source": [
    "# index\n",
    "# for index in [0,1,2,3,4,5,6]:\n",
    "#     print(index)\n",
    "#     print(class_1[index],'到')\n",
    "    \n",
    "# 直接取到每个一目标列表当中的元素\n",
    "for i in class_1:\n",
    "    print(i, ' 到！')\n",
    "    \n",
    "print('end')"
   ]
  },
  {
   "cell_type": "code",
   "execution_count": 135,
   "metadata": {},
   "outputs": [
    {
     "name": "stdout",
     "output_type": "stream",
     "text": [
      "0\n",
      "1\n",
      "2\n",
      "3\n",
      "4\n",
      "5\n",
      "6\n"
     ]
    }
   ],
   "source": [
    "# 遍历下标\n",
    "for i in range(7):\n",
    "    print(i)\n",
    "    # 通过Index  some code"
   ]
  },
  {
   "cell_type": "markdown",
   "metadata": {},
   "source": [
    "for 定长循环\n",
    "\n",
    "`当` 型循环"
   ]
  },
  {
   "cell_type": "markdown",
   "metadata": {},
   "source": [
    "## while\n",
    "当型循环，按条件循环，**当什么什么的时候，就怎么怎么样**。\n",
    "\n",
    "``` python \n",
    "while 条件: \n",
    "    # 条件为真 执行词代码块\n",
    "    pass # 一般在这里进行某些操作，然后修改条件\n",
    "```"
   ]
  },
  {
   "cell_type": "code",
   "execution_count": null,
   "metadata": {},
   "outputs": [],
   "source": [
    "num 为什么不等于4 \n",
    "0 != 4    True\n",
    "\n"
   ]
  },
  {
   "cell_type": "code",
   "execution_count": 140,
   "metadata": {},
   "outputs": [
    {
     "name": "stdout",
     "output_type": "stream",
     "text": [
      "8\n"
     ]
    }
   ],
   "source": [
    "num = 0\n",
    "\n",
    "i = 0 \n",
    "\n",
    "while num!=4:\n",
    "    i+=1\n",
    "    if i % 2 == 0:\n",
    "        num += 1\n",
    "print(i)"
   ]
  },
  {
   "cell_type": "code",
   "execution_count": 142,
   "metadata": {},
   "outputs": [
    {
     "name": "stdout",
     "output_type": "stream",
     "text": [
      "0\n",
      "1\n",
      "2\n",
      "3\n",
      "4\n",
      "5\n"
     ]
    }
   ],
   "source": [
    "i = 0\n",
    "\n",
    "while i<=5:\n",
    "    print(i)\n",
    "    i+=1"
   ]
  },
  {
   "cell_type": "code",
   "execution_count": 148,
   "metadata": {},
   "outputs": [
    {
     "name": "stdout",
     "output_type": "stream",
     "text": [
      "\n",
      "\n"
     ]
    }
   ],
   "source": [
    "text = input()\n",
    "\n",
    "while text: # 不为空\n",
    "    print('输入为:', text)\n",
    "    text = input()"
   ]
  }
 ],
 "metadata": {
  "kernelspec": {
   "display_name": "Python 3",
   "language": "python",
   "name": "python3"
  },
  "language_info": {
   "codemirror_mode": {
    "name": "ipython",
    "version": 3
   },
   "file_extension": ".py",
   "mimetype": "text/x-python",
   "name": "python",
   "nbconvert_exporter": "python",
   "pygments_lexer": "ipython3",
   "version": "3.7.3"
  }
 },
 "nbformat": 4,
 "nbformat_minor": 2
}
